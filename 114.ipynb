{
  "nbformat": 4,
  "nbformat_minor": 0,
  "metadata": {
    "kernelspec": {
      "display_name": "Python 3",
      "language": "python",
      "name": "python3"
    },
    "language_info": {
      "codemirror_mode": {
        "name": "ipython",
        "version": 3
      },
      "file_extension": ".py",
      "mimetype": "text/x-python",
      "name": "python",
      "nbconvert_exporter": "python",
      "pygments_lexer": "ipython3",
      "version": "3.7.7"
    },
    "colab": {
      "name": "114.ipynb",
      "provenance": []
    }
  },
  "cells": [
    {
      "cell_type": "markdown",
      "metadata": {
        "id": "0ykqUEDv_i4k"
      },
      "source": [
        "# Module 1: Data Wrangling with Python\n",
        "## Sprint 1: Python Mastery\n",
        "## Part 4: Containers & REST APIs\n"
      ]
    },
    {
      "cell_type": "markdown",
      "metadata": {
        "id": "aMATJeHm_i43"
      },
      "source": [
        "## About this Part\n",
        "\n",
        "In this Part, you will learn how to create and deploy REST APIs with Bottle library.\n",
        "Having this skill will be essential later on, when you will be deploying your Machine Learning applications.\n",
        "You will also get introduced to containerization with Docker - an extremely popular tool, which makes managing runtime environments much easier.\n",
        "In addition, knowing Docker (and Docker Compose) will allow you to quickly setup robust development environment.\n",
        "\n",
        "## Objectives for this Part\n",
        "\n",
        "- Learn how to build REST APIs using Bottle library.\n",
        "- Learn the basics of web applications: routing, requests, responses, and templating.\n",
        "- Learn how to test Python code with py.test, itertools, and hypothesis.\n",
        "- Learn containerization and Docker basics.\n",
        "- Practice using working with files by doing the /etc/passwd to dict exercise.\n",
        "- Practice Python skills on Codesignal.\n"
      ]
    },
    {
      "cell_type": "markdown",
      "metadata": {
        "id": "liOI_VDc_i44"
      },
      "source": [
        "[Big Ideas and Little Code in Python by Raymond Hettinger](https://learning.oreilly.com/videos/modern-python-livelessons/9780134743400)\n",
        "\n",
        "- Lesson 9: Using Bottle to Build REST APIs and Web Applications\n",
        "- Lesson 10: Building a Web Application for the PubSub Service\n",
        "- Lesson 11: Testing with PyTest, Itertools, Hypothesis, Pyflakes, MyPy and Data Validators"
      ]
    },
    {
      "cell_type": "markdown",
      "metadata": {
        "id": "QMPFAPjq_i44"
      },
      "source": [
        "[Docker, Dockerfile, and Docker-Compose (2020 Ready!)](https://learning.oreilly.com/videos/docker-dockerfile-and/9781800206847/)"
      ]
    },
    {
      "cell_type": "markdown",
      "metadata": {
        "id": "ydP4eBaM_i45"
      },
      "source": [
        "[Orchestration using Docker Compose](https://learning.oreilly.com/scenarios/orchestrate-containers-using/9781492061670/)"
      ]
    },
    {
      "cell_type": "markdown",
      "metadata": {
        "id": "gpukwXwT_i45"
      },
      "source": [
        "Read\n",
        "\n",
        "- [What are containers?](https://www.cio.com/article/2924995/what-are-containers-and-why-do-you-need-them.html)\n",
        "- [Run Python Versions in Docker: How to Try the Latest Python Release](https://realpython.com/python-versions-docker/)"
      ]
    },
    {
      "cell_type": "markdown",
      "metadata": {
        "id": "0lrCia8N_i45"
      },
      "source": [
        "[Codesignal Arcade Intro](https://app.codesignal.com/arcade/intro).\n",
        "\n",
        "- Through the Fog (30-33).\n",
        "\n",
        "\n",
        "[Codesignal Arcade Python](https://app.codesignal.com/arcade/python-arcade).\n",
        "\n",
        "- Caravan of Collections (40-47).\n"
      ]
    },
    {
      "cell_type": "markdown",
      "metadata": {
        "id": "vtr7hKPF_i46"
      },
      "source": [
        "[Python Workout](https://learning.oreilly.com/library/view/python-workout/9781617295508/)\n",
        "\n",
        "This is how you should complete this task:\n",
        "\n",
        "- Read the Exercise description below.\n",
        "- Try to solve the exercise yourself.\n",
        "- Read the WORKING IT OUT, SOLUTION, and BEYOND THE EXERCISE sections from the book.\n",
        "\n",
        "5 Files | Exercise 19 ■ /etc/passwd to dict\n",
        "\n",
        "It’s both common and useful to think of files as sequences of strings. After all, when you iterate over a file object, you get each of the file’s lines as a string, one at a time. But it often makes more sense to turn a file into a more complex data structure, such as a dict.\n",
        "\n",
        "In this exercise, write a function, `passwd_to_dict`, that reads from a Unix-style “password file,” commonly stored as /etc/passwd, and returns a dict based on it. If you don’t have access to such a file, you can download one that I’ve uploaded at http://mng.bz/2XXg.\n",
        "\n",
        "Here’s a sample of what the file looks like:\n",
        "\n",
        "```\n",
        "nobody:*:-2:-2::0:0:Unprivileged User:/var/empty:/usr/bin/false\n",
        "root:*:0:0::0:0:System Administrator:/var/root:/bin/sh\n",
        "daemon:*:1:1::0:0:System Services:/var/root:/usr/bin/false\n",
        "```\n",
        "\n",
        "Each line is one user record, divided into colon-separated fields. The first field (index 0) is the username, and the third field (index 2) is the user’s unique ID number. (In the system from which I took the `/etc/passwd` file, nobody has ID -2, `root` has ID 0, and `daemon` has ID 1.) For our purposes, you can ignore all but these two fields.\n",
        "\n",
        "Sometimes, the file will contain lines that fail to adhere to this format. For example, we generally ignore lines containing nothing but whitespace. Some vendors (e.g., Apple) include comments in their `/etc/passwd` files, in which the line starts with a `#` character.\n",
        "\n",
        "The function passwd_to_dict should return a dict based on `/etc/passwd` in which the dict’s keys are usernames and the values are the users’ IDs.\n",
        "\n",
        "Some help from string methods\n",
        "\n",
        "The string methods `str.startswith`, `str.endswith`, and `str.strip` are helpful when doing this kind of analysis and manipulation.\n",
        "\n",
        "For example, str.startswith returns `True` or `False`, depending on whether the string starts with a string:\n",
        "\n",
        "```\n",
        "s = 'abcd'\n",
        "s.startswith('a')    # returns True\n",
        "s.startswith('abc')  # returns True\n",
        "s.startswith('b')    # returns False\n",
        "```\n",
        "\n",
        "Similarly, str.endswith tells us whether a string ends with a particular string:\n",
        "\n",
        "```\n",
        "s = 'abcd'\n",
        "s.endswith('d')    # returns True\n",
        "s.endswith('cd')   # returns True\n",
        "s.endswith('b')    # returns False\n",
        "```\n",
        "\n",
        "`str.strip` removes the whitespace--the space character, as well as `\\n`, `\\r`, `\\t`, and even `\\v`--on either side of the string. The `str.lstrip` and `str.rstrip` methods only remove whitespace on the left and right, respectively. All of these methods return strings:\n",
        "\n",
        "```\n",
        "s = '   \\t\\t\\ta  b  c  \\t\\t\\n'\n",
        "s.strip()    # returns 'a  b  c'\n",
        "s.lstrip()   # returns 'a  b  c  \\t\\t\\n'\n",
        "s.rstrip()   # returns '   \\t\\t\\ta  b  c'\n",
        "```"
      ]
    },
    {
      "cell_type": "code",
      "metadata": {
        "id": "dL5aNycveKkP",
        "outputId": "00ee0cbb-5d74-410c-99a9-65735a0ab10f",
        "colab": {
          "base_uri": "https://localhost:8080/",
          "height": 316
        }
      },
      "source": [
        "from typing import Text, Dict\n",
        "\n",
        "def passwd_to_dict(file_path: Text) -> Dict[str, int] :\n",
        "  with open(file_path) as file:\n",
        "    for row in file:\n",
        "      print(row)\n",
        "\n",
        "passwd_to_dict(\"\")\n"
      ],
      "execution_count": 5,
      "outputs": [
        {
          "output_type": "error",
          "ename": "FileNotFoundError",
          "evalue": "ignored",
          "traceback": [
            "\u001b[0;31m---------------------------------------------------------------------------\u001b[0m",
            "\u001b[0;31mFileNotFoundError\u001b[0m                         Traceback (most recent call last)",
            "\u001b[0;32m<ipython-input-5-1988339c3aa8>\u001b[0m in \u001b[0;36m<module>\u001b[0;34m()\u001b[0m\n\u001b[1;32m      6\u001b[0m       \u001b[0mprint\u001b[0m\u001b[0;34m(\u001b[0m\u001b[0mrow\u001b[0m\u001b[0;34m)\u001b[0m\u001b[0;34m\u001b[0m\u001b[0;34m\u001b[0m\u001b[0m\n\u001b[1;32m      7\u001b[0m \u001b[0;34m\u001b[0m\u001b[0m\n\u001b[0;32m----> 8\u001b[0;31m \u001b[0mpasswd_to_dict\u001b[0m\u001b[0;34m(\u001b[0m\u001b[0;34m\"\"\u001b[0m\u001b[0;34m)\u001b[0m\u001b[0;34m\u001b[0m\u001b[0;34m\u001b[0m\u001b[0m\n\u001b[0m",
            "\u001b[0;32m<ipython-input-5-1988339c3aa8>\u001b[0m in \u001b[0;36mpasswd_to_dict\u001b[0;34m(file_path)\u001b[0m\n\u001b[1;32m      2\u001b[0m \u001b[0;34m\u001b[0m\u001b[0m\n\u001b[1;32m      3\u001b[0m \u001b[0;32mdef\u001b[0m \u001b[0mpasswd_to_dict\u001b[0m\u001b[0;34m(\u001b[0m\u001b[0mfile_path\u001b[0m\u001b[0;34m:\u001b[0m \u001b[0mText\u001b[0m\u001b[0;34m)\u001b[0m \u001b[0;34m->\u001b[0m \u001b[0mDict\u001b[0m\u001b[0;34m[\u001b[0m\u001b[0mstr\u001b[0m\u001b[0;34m,\u001b[0m \u001b[0mint\u001b[0m\u001b[0;34m]\u001b[0m \u001b[0;34m:\u001b[0m\u001b[0;34m\u001b[0m\u001b[0;34m\u001b[0m\u001b[0m\n\u001b[0;32m----> 4\u001b[0;31m   \u001b[0;32mwith\u001b[0m \u001b[0mopen\u001b[0m\u001b[0;34m(\u001b[0m\u001b[0mfile_path\u001b[0m\u001b[0;34m)\u001b[0m \u001b[0;32mas\u001b[0m \u001b[0mfile\u001b[0m\u001b[0;34m:\u001b[0m\u001b[0;34m\u001b[0m\u001b[0;34m\u001b[0m\u001b[0m\n\u001b[0m\u001b[1;32m      5\u001b[0m     \u001b[0;32mfor\u001b[0m \u001b[0mrow\u001b[0m \u001b[0;32min\u001b[0m \u001b[0mfile\u001b[0m\u001b[0;34m:\u001b[0m\u001b[0;34m\u001b[0m\u001b[0;34m\u001b[0m\u001b[0m\n\u001b[1;32m      6\u001b[0m       \u001b[0mprint\u001b[0m\u001b[0;34m(\u001b[0m\u001b[0mrow\u001b[0m\u001b[0;34m)\u001b[0m\u001b[0;34m\u001b[0m\u001b[0;34m\u001b[0m\u001b[0m\n",
            "\u001b[0;31mFileNotFoundError\u001b[0m: [Errno 2] No such file or directory: ''"
          ]
        }
      ]
    }
  ]
}