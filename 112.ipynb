{
  "nbformat": 4,
  "nbformat_minor": 0,
  "metadata": {
    "kernelspec": {
      "display_name": "Python 3",
      "language": "python",
      "name": "python3"
    },
    "language_info": {
      "codemirror_mode": {
        "name": "ipython",
        "version": 3
      },
      "file_extension": ".py",
      "mimetype": "text/x-python",
      "name": "python",
      "nbconvert_exporter": "python",
      "pygments_lexer": "ipython3",
      "version": "3.7.7"
    },
    "colab": {
      "name": "112.ipynb",
      "provenance": []
    }
  },
  "cells": [
    {
      "cell_type": "markdown",
      "metadata": {
        "id": "9YU8rHwjF0QA"
      },
      "source": [
        "# Module 1: Data Wrangling with Python\n",
        "## Sprint 1: Python Mastery\n",
        "## Part 2: Improving Code Reliability\n"
      ]
    },
    {
      "cell_type": "markdown",
      "metadata": {
        "id": "j3rbblmJF0QU"
      },
      "source": [
        "## About this Part\n",
        "\n",
        "In this Part, we will focus on improving code reliability by using type checking - something that was very recently added to Python.\n",
        "Static type checking allows you to see any type errors without running your code and even can be used to understand your code better.\n",
        "You will learn how to do that with MyPy, which is by far the most stable and popular tool used for this purpose.\n",
        "Among other things, we will also learn about our first machine learning algorithm - k-means clustering.\n",
        "\n",
        "## Objectives for this Part\n",
        "\n",
        "- Learn about static type checking with MyPy.\n",
        "- Learn the k-means clustering unsupervised learning algorithm.\n",
        "- Learn how to do data extraction, transformation, and analysis with using defaultdict.\n",
        "- Learn how to read CSV files using iterators.\n",
        "- Understand how Python dictionaries work.\n",
        "- Learn how to apply Clean Code principles in Python.\n",
        "- Learn how to use built-in documentation and docstrings to document your code.\n",
        "- Practice using strings in Python by doing the Pig Latin exercise.\n",
        "- Practice Python skills on Codesignal.\n",
        "  "
      ]
    },
    {
      "cell_type": "markdown",
      "metadata": {
        "id": "3NyqWAyhF0QX"
      },
      "source": [
        "[Big Ideas and Little Code in Python by Raymond Hettinger](https://learning.oreilly.com/videos/modern-python-livelessons/9780134743400)\n",
        "\n",
        "- Lesson 3: Improving Reliability with MyPy and Type Hinting\n",
        "- Lesson 4: Implementing k-means Unsupervised Machine Learning\n",
        "- Lesson 5: Building Additional Skills for Data Analysis"
      ]
    },
    {
      "cell_type": "markdown",
      "metadata": {
        "id": "Yo5MfURGF0QY"
      },
      "source": [
        "[Cleaner Code for Data Science: Using Auto Documentation Frameworks in Python](https://learning.oreilly.com/scenarios/cleaner-code-for/9781098116194/)"
      ]
    },
    {
      "cell_type": "markdown",
      "metadata": {
        "id": "Icsxkb9pF0QY"
      },
      "source": [
        "Read\n",
        "\n",
        "- [clean-code-python](https://github.com/zedr/clean-code-python)\n",
        "- [How Python dictionaries work](https://tenthousandmeters.com/blog/python-behind-the-scenes-10-how-python-dictionaries-work/)\n",
        "- [Getting Started With Testing in Python](https://realpython.com/python-testing/)\n",
        "- [Choosing a License](https://docs.python-guide.org/writing/license/)"
      ]
    },
    {
      "cell_type": "markdown",
      "metadata": {
        "id": "nQ8ev4-NF0QZ"
      },
      "source": [
        "[Codesignal Arcade Intro](https://app.codesignal.com/arcade/intro).\n",
        "\n",
        "- Island of Knowledge (19-24).\n",
        "\n",
        "\n",
        "[Codesignal Arcade Python](https://app.codesignal.com/arcade/python-arcade).\n",
        "\n",
        "- Complexity of Comprehension (30-34).\n"
      ]
    },
    {
      "cell_type": "markdown",
      "metadata": {
        "id": "XeZvZPwaF0QZ"
      },
      "source": [
        "[Python Workout](https://learning.oreilly.com/library/view/python-workout/9781617295508/)\n",
        "\n",
        "This is how you should complete this task:\n",
        "\n",
        "- Read the exercise description below.\n",
        "- Try to solve the exercise yourself.\n",
        "- Read the WORKING IT OUT, SOLUTION, and BEYOND THE EXERCISE sections from the book.\n",
        "\n",
        "2 Strings | Exercise 5 ■ Pig Latin\n",
        "\n",
        "Pig Latin (http://mng.bz/YrON) is a common children's \"secret\" language in English-speaking countries. (It's normally secret among children who forget that their parents were once children themselves.) The rules for translating words from English into Pig Latin are quite simple:\n",
        "\n",
        "If the word begins with a vowel (a, e, i, o, or u), add \"way\" to the end of the word. So \"air\" becomes \"airway\" and \"eat\" becomes \"eatway.\"\n",
        "\n",
        "If the word begins with any other letter, then we take the first letter, put it on the end of the word, and then add \"ay.\" Thus, \"python\" becomes \"ythonpay\" and \"computer\" becomes \"omputercay.\"\n",
        "\n",
        "(And yes, I recognize that the rules can be made more sophisticated. Let's keep it simple for the purposes of this exercise.)\n",
        "\n",
        "For this exercise, write a Python function (pig_latin) that takes a string as input, assumed to be an English word. The function should return the translation of this word into Pig Latin. You may assume that the word contains no capital letters or punctuation.\n",
        "\n",
        "This exercise isn't meant to help you translate documents into Pig Latin for your job. (If that is your job, then I really have to question your career choices.) However, it demonstrates some of the powerful techniques that you should know when working with sequences, including searches, iteration, and slices. It's hard to imagine a Python program that doesn't include any of these techniques."
      ]
    },
    {
      "cell_type": "code",
      "metadata": {
        "id": "71UDlWkZdr77",
        "outputId": "4f8d399c-b389-4511-c20d-d568010316f7",
        "colab": {
          "base_uri": "https://localhost:8080/",
          "height": 35
        }
      },
      "source": [
        "def pig_latin(word: str) -> str :\n",
        "  if word[0] in \"aeiou\":\n",
        "    return word+\"way\"\n",
        "  else:\n",
        "    return word[1:]+word[0]+\"ay\"\n",
        "\n",
        "pig_latin(\"error\")"
      ],
      "execution_count": 2,
      "outputs": [
        {
          "output_type": "execute_result",
          "data": {
            "application/vnd.google.colaboratory.intrinsic+json": {
              "type": "string"
            },
            "text/plain": [
              "'errorway'"
            ]
          },
          "metadata": {
            "tags": []
          },
          "execution_count": 2
        }
      ]
    }
  ]
}