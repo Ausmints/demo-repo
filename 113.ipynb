{
  "nbformat": 4,
  "nbformat_minor": 0,
  "metadata": {
    "kernelspec": {
      "display_name": "Python 3",
      "language": "python",
      "name": "python3"
    },
    "language_info": {
      "codemirror_mode": {
        "name": "ipython",
        "version": 3
      },
      "file_extension": ".py",
      "mimetype": "text/x-python",
      "name": "python",
      "nbconvert_exporter": "python",
      "pygments_lexer": "ipython3",
      "version": "3.7.7"
    },
    "colab": {
      "name": "113.ipynb",
      "provenance": []
    }
  },
  "cells": [
    {
      "cell_type": "markdown",
      "metadata": {
        "id": "ue9nkLPEawYw"
      },
      "source": [
        "# Module 1: Data Wrangling with Python\n",
        "## Sprint 1: Python Mastery\n",
        "## Part 3: Cluster Analysis With Python\n"
      ]
    },
    {
      "cell_type": "markdown",
      "metadata": {
        "id": "Bm62Aed2awZO"
      },
      "source": [
        "## About this Part\n",
        "\n",
        "This Part will continue with k-means clustering algorithm that you have just learned, utilizing knowledge of Python to start applying it to real datasets.\n",
        "We will also continue learning and practicing how to properly structure Python code.\n",
        "Finally, you will start learning how create and publish your own Python packages.\n",
        "\n",
        "## Objectives for this Part\n",
        "\n",
        "- Practice using k-means clustering.\n",
        "- Learn the basics of handling passwords.\n",
        "- Practice object-oriented programming.\n",
        "- Practice using static type checking.\n",
        "- Learn what is PEP 8 and how to use it in your Python code.\n",
        "- Learn how to use Python's logging module.\n",
        "- Learn how to package and publish your Python code.\n",
        "- Practice using dictionaries and sets by doing the Restaurant exercise.\n",
        "- Practice Python skills on Codesignal.\n"
      ]
    },
    {
      "cell_type": "markdown",
      "metadata": {
        "id": "FWyRv93KawZP"
      },
      "source": [
        "[Big Ideas and Little Code in Python by Raymond Hettinger](https://learning.oreilly.com/videos/modern-python-livelessons/9780134743400)\n",
        "\n",
        "- Lesson 6: Applying Cluster Analysis to a Real Dataset\n",
        "- Lesson 7: Gearing-up for a Publisher/Subscriber Application\n",
        "- Lesson 8: Implementing a Publisher/Subscriber Application"
      ]
    },
    {
      "cell_type": "markdown",
      "metadata": {
        "id": "zXHqBeEjawZP"
      },
      "source": [
        "[Cleaner Code for Data Science: Logging in Python](https://learning.oreilly.com/scenarios/cleaner-code-for/9781098116170/)"
      ]
    },
    {
      "cell_type": "markdown",
      "metadata": {
        "id": "1VWCm2dRawZQ"
      },
      "source": [
        "Read\n",
        "\n",
        "- [How to Write Beautiful Python Code With PEP 8](https://realpython.com/python-pep8/)\n",
        "- [Python Packaging](https://antonz.org/python-packaging/)\n",
        "- [Python Modules and Packages – An Introduction](https://realpython.com/python-modules-packages/)\n",
        "- [Ideal Python environment setup for Data Science](https://towardsdatascience.com/ideal-python-environment-setup-for-data-science-cdb03a447de8)"
      ]
    },
    {
      "cell_type": "markdown",
      "metadata": {
        "id": "vSpthiemawZQ"
      },
      "source": [
        "[Codesignal Arcade Intro](https://app.codesignal.com/arcade/intro).\n",
        "  \n",
        "- Rains of Reason (25-29).\n",
        "\n",
        "\n",
        "[Codesignal Arcade Python](https://app.codesignal.com/arcade/python-arcade).\n",
        "\n",
        "- Fumbling in Functional (35-39).\n",
        "  \n"
      ]
    },
    {
      "cell_type": "markdown",
      "metadata": {
        "id": "gzUOq-viawZQ"
      },
      "source": [
        "[Python Workout](https://learning.oreilly.com/library/view/python-workout/9781617295508/)\n",
        "\n",
        "This is how you should complete this task:\n",
        "\n",
        "- Read the Exercise description below.\n",
        "- Try to solve the exercise yourself.\n",
        "- [Optional] Read 4 Dictionaries and sets chapter of the book.\n",
        "- Read the WORKING IT OUT, SOLUTION, and BEYOND THE EXERCISE sections from the book.\n",
        "\n",
        "4 Dictionaries and sets | Exercise 14 ■ Restaurant\n",
        "\n",
        "One common use for dicts is as a small database within our program. We set up the dict at the top of the program, and then reference it throughout the program.\n",
        "\n",
        "For example, you might set up a dict of months, with the month names as keys and numbers as values. Or perhaps you’ll have a dict of users, with user IDs as the keys and email addresses as the values.\n",
        "\n",
        "In this exercise, I want you to create a new constant dict, called MENU, representing the possible items you can order at a restaurant. The keys will be strings, and the values will be prices (i.e., integers). You should then write a function, restaurant, that asks the user to enter an order:\n",
        "\n",
        "- If the user enters the name of a dish on the menu, the program prints the price and the running total. It then asks the user again for their order.\n",
        "- If the user enters the name of a dish not on the menu, the program scolds the user (mildly). It then asks the user again for their order.\n",
        "- If the user enters an empty string, the program stops prompting and prints the total amount.\n",
        "\n",
        "For example, a session with the user might look like this:\n",
        "\n",
        "```\n",
        "Order: sandwich\n",
        "sandwich costs 10, total is 10\n",
        "Order: tea\n",
        "tea costs 7, total is 17\n",
        "Order: elephant\n",
        "Sorry, we are fresh out of elephant today.\n",
        "Order: <enter>\n",
        "Your total is 17\n",
        "```\n",
        "\n",
        "Note that you can always check to see if a key is in a dict with the in operator. That returns `True` or `False`."
      ]
    },
    {
      "cell_type": "code",
      "metadata": {
        "id": "s6l7HHj4kvIR"
      },
      "source": [
        "MENU = {\"sandwich\": 5, \"coffee\":4, \"tea\": 3, \"risotto\":8, \"salad\":8}\n",
        "\n",
        "def restaurant() -> None :\n",
        "  total = 0\n",
        "  while True:\n",
        "    order = input(\"Order: \")\n",
        "    if order in MENU:\n",
        "      total += MENU[order]\n",
        "      print(f\"{order} costs {MENU[order]}, total is {total}\")\n",
        "    elif order == \"\":\n",
        "      print(f\"Your total is {total}\")\n",
        "      print(\"Thank you for shopping with Local Coffee!\")\n",
        "      break\n",
        "    else:\n",
        "      print(f\"Sorry, chef refuses to make {order}\")"
      ],
      "execution_count": 3,
      "outputs": []
    },
    {
      "cell_type": "code",
      "metadata": {
        "id": "Nj3JocClmmsQ",
        "outputId": "c306f569-b579-40c4-cbba-325e99d19b40",
        "colab": {
          "base_uri": "https://localhost:8080/"
        }
      },
      "source": [
        "restaurant()"
      ],
      "execution_count": 4,
      "outputs": [
        {
          "output_type": "stream",
          "text": [
            "Order: \n",
            "Your total is 0\n",
            "Thank you for shopping with Local Coffee!\n"
          ],
          "name": "stdout"
        }
      ]
    },
    {
      "cell_type": "code",
      "metadata": {
        "id": "ymgpLc7-mqbZ"
      },
      "source": [
        ""
      ],
      "execution_count": null,
      "outputs": []
    }
  ]
}