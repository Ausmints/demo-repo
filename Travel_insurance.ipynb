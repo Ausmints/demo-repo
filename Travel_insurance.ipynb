{
  "nbformat": 4,
  "nbformat_minor": 0,
  "metadata": {
    "colab": {
      "name": "Travel_insurance.ipynb",
      "provenance": [],
      "authorship_tag": "ABX9TyMSgFs77pXmjmoHK5/JrZmn",
      "include_colab_link": true
    },
    "kernelspec": {
      "name": "python3",
      "display_name": "Python 3"
    },
    "language_info": {
      "name": "python"
    }
  },
  "cells": [
    {
      "cell_type": "markdown",
      "metadata": {
        "id": "view-in-github",
        "colab_type": "text"
      },
      "source": [
        "<a href=\"https://colab.research.google.com/github/Ausmints/demo-repo/blob/main/Travel_insurance.ipynb\" target=\"_parent\"><img src=\"https://colab.research.google.com/assets/colab-badge.svg\" alt=\"Open In Colab\"/></a>"
      ]
    },
    {
      "cell_type": "markdown",
      "source": [
        "#Title\n",
        "\n",
        "Explanation"
      ],
      "metadata": {
        "id": "C4aR9VkAaijp"
      }
    },
    {
      "cell_type": "markdown",
      "source": [
        "##Setting up the Data\n",
        "\n",
        "First we need to import the libraries we will be using as well as the data. Also, we will be getting the data straight from kaggle, so we need to set up the connection to kaggle as well."
      ],
      "metadata": {
        "id": "vOXSwz4LarG8"
      }
    },
    {
      "cell_type": "code",
      "execution_count": null,
      "metadata": {
        "colab": {
          "base_uri": "https://localhost:8080/"
        },
        "id": "9sKJ12uieT9R",
        "outputId": "60f16cd7-3fe3-4821-9f2e-69fcd76c0273"
      },
      "outputs": [
        {
          "output_type": "stream",
          "name": "stdout",
          "text": [
            "Looking in indexes: https://pypi.org/simple, https://us-python.pkg.dev/colab-wheels/public/simple/\n",
            "Requirement already satisfied: kaggle in /usr/local/lib/python3.7/dist-packages (1.5.12)\n",
            "Requirement already satisfied: urllib3 in /usr/local/lib/python3.7/dist-packages (from kaggle) (1.24.3)\n",
            "Requirement already satisfied: certifi in /usr/local/lib/python3.7/dist-packages (from kaggle) (2022.5.18.1)\n",
            "Requirement already satisfied: requests in /usr/local/lib/python3.7/dist-packages (from kaggle) (2.23.0)\n",
            "Requirement already satisfied: python-dateutil in /usr/local/lib/python3.7/dist-packages (from kaggle) (2.8.2)\n",
            "Requirement already satisfied: six>=1.10 in /usr/local/lib/python3.7/dist-packages (from kaggle) (1.15.0)\n",
            "Requirement already satisfied: tqdm in /usr/local/lib/python3.7/dist-packages (from kaggle) (4.64.0)\n",
            "Requirement already satisfied: python-slugify in /usr/local/lib/python3.7/dist-packages (from kaggle) (6.1.2)\n",
            "Requirement already satisfied: text-unidecode>=1.3 in /usr/local/lib/python3.7/dist-packages (from python-slugify->kaggle) (1.3)\n",
            "Requirement already satisfied: chardet<4,>=3.0.2 in /usr/local/lib/python3.7/dist-packages (from requests->kaggle) (3.0.4)\n",
            "Requirement already satisfied: idna<3,>=2.5 in /usr/local/lib/python3.7/dist-packages (from requests->kaggle) (2.10)\n",
            "Downloading travel-insurance-prediction-data.zip to /content\n",
            "  0% 0.00/13.0k [00:00<?, ?B/s]\n",
            "100% 13.0k/13.0k [00:00<00:00, 9.94MB/s]\n",
            "Archive:  /content/travel-insurance-prediction-data.zip\n",
            "  inflating: TravelInsurancePrediction.csv  \n"
          ]
        }
      ],
      "source": [
        "! pip install kaggle\n",
        "! mkdir ~/.kaggle\n",
        "! cp kaggle.json ~/.kaggle/\n",
        "! chmod 600 ~/.kaggle/kaggle.json\n",
        "! kaggle datasets download tejashvi14/travel-insurance-prediction-data\n",
        "! unzip /content/travel-insurance-prediction-data.zip"
      ]
    },
    {
      "cell_type": "code",
      "source": [
        "import numpy as np\n",
        "import pandas as pd\n",
        "import matplotlib.pyplot as plt\n",
        "import matplotlib.patches as mpatches\n",
        "import seaborn as sns\n",
        "import re\n",
        "from AUS_Functions import *"
      ],
      "metadata": {
        "id": "Q1ZoOU9qsW2P"
      },
      "execution_count": null,
      "outputs": []
    },
    {
      "cell_type": "code",
      "source": [
        "from sklearn.model_selection import train_test_split\n",
        "import statsmodels.api as sm\n",
        "\n",
        "\n",
        "from sklearn.preprocessing import MinMaxScaler\n",
        "from sklearn.preprocessing import PolynomialFeatures\n",
        "from sklearn.linear_model import LinearRegression\n",
        "from sklearn.linear_model import LogisticRegression\n",
        "from sklearn.metrics import confusion_matrix\n",
        "from sklearn.metrics import r2_score\n",
        "from scipy.stats import normaltest\n",
        "from scipy.stats import shapiro\n",
        "from sklearn.decomposition import PCA\n",
        "from sklearn.manifold import TSNE\n",
        "from sklearn.linear_model import BayesianRidge\n",
        "from sklearn.experimental import enable_iterative_imputer\n",
        "from sklearn.impute import IterativeImputer"
      ],
      "metadata": {
        "id": "Jtkfdgh4VxsJ",
        "outputId": "e952209c-823e-43de-afe8-ab4aaa01a7bb",
        "colab": {
          "base_uri": "https://localhost:8080/"
        }
      },
      "execution_count": null,
      "outputs": [
        {
          "output_type": "stream",
          "name": "stderr",
          "text": [
            "/usr/local/lib/python3.7/dist-packages/statsmodels/tools/_testing.py:19: FutureWarning: pandas.util.testing is deprecated. Use the functions in the public API at pandas.testing instead.\n",
            "  import pandas.util.testing as tm\n"
          ]
        }
      ]
    },
    {
      "cell_type": "code",
      "source": [
        "sns.set()\n",
        "colors = {\n",
        "    \"blue\": \"#4C72B0\",\n",
        "    \"orange\": \"#DD8452\",\n",
        "    \"green\": \"#55A868\",\n",
        "    \"red\": \"#C44E52\",\n",
        "    \"grey\": \"#8C8C8C\",\n",
        "}"
      ],
      "metadata": {
        "id": "nZNc7Epo7fWI"
      },
      "execution_count": null,
      "outputs": []
    },
    {
      "cell_type": "code",
      "source": [
        "data = pd.read_csv(\"TravelInsurancePrediction.csv\", index_col=0)"
      ],
      "metadata": {
        "id": "PQjghPCC78j-"
      },
      "execution_count": null,
      "outputs": []
    },
    {
      "cell_type": "markdown",
      "source": [
        "We need to split the dataset in training and test segments before we start EDA. However let's have a quick look at the data before we do that to make sure we split the data fairly."
      ],
      "metadata": {
        "id": "PiyKY36pa5YU"
      }
    },
    {
      "cell_type": "code",
      "source": [
        "data.head()"
      ],
      "metadata": {
        "colab": {
          "base_uri": "https://localhost:8080/",
          "height": 206
        },
        "id": "-4HnHgr28Kno",
        "outputId": "b9ffa4da-874c-406b-a588-ebfa8ed468b8"
      },
      "execution_count": null,
      "outputs": [
        {
          "output_type": "execute_result",
          "data": {
            "text/plain": [
              "   Age               Employment Type GraduateOrNot  AnnualIncome  \\\n",
              "0   31             Government Sector           Yes        400000   \n",
              "1   31  Private Sector/Self Employed           Yes       1250000   \n",
              "2   34  Private Sector/Self Employed           Yes        500000   \n",
              "3   28  Private Sector/Self Employed           Yes        700000   \n",
              "4   28  Private Sector/Self Employed           Yes        700000   \n",
              "\n",
              "   FamilyMembers  ChronicDiseases FrequentFlyer EverTravelledAbroad  \\\n",
              "0              6                1            No                  No   \n",
              "1              7                0            No                  No   \n",
              "2              4                1            No                  No   \n",
              "3              3                1            No                  No   \n",
              "4              8                1           Yes                  No   \n",
              "\n",
              "   TravelInsurance  \n",
              "0                0  \n",
              "1                0  \n",
              "2                1  \n",
              "3                0  \n",
              "4                0  "
            ],
            "text/html": [
              "\n",
              "  <div id=\"df-9e29ee1b-8aa4-4ff7-b5d1-e4ae8a0dc4b4\">\n",
              "    <div class=\"colab-df-container\">\n",
              "      <div>\n",
              "<style scoped>\n",
              "    .dataframe tbody tr th:only-of-type {\n",
              "        vertical-align: middle;\n",
              "    }\n",
              "\n",
              "    .dataframe tbody tr th {\n",
              "        vertical-align: top;\n",
              "    }\n",
              "\n",
              "    .dataframe thead th {\n",
              "        text-align: right;\n",
              "    }\n",
              "</style>\n",
              "<table border=\"1\" class=\"dataframe\">\n",
              "  <thead>\n",
              "    <tr style=\"text-align: right;\">\n",
              "      <th></th>\n",
              "      <th>Age</th>\n",
              "      <th>Employment Type</th>\n",
              "      <th>GraduateOrNot</th>\n",
              "      <th>AnnualIncome</th>\n",
              "      <th>FamilyMembers</th>\n",
              "      <th>ChronicDiseases</th>\n",
              "      <th>FrequentFlyer</th>\n",
              "      <th>EverTravelledAbroad</th>\n",
              "      <th>TravelInsurance</th>\n",
              "    </tr>\n",
              "  </thead>\n",
              "  <tbody>\n",
              "    <tr>\n",
              "      <th>0</th>\n",
              "      <td>31</td>\n",
              "      <td>Government Sector</td>\n",
              "      <td>Yes</td>\n",
              "      <td>400000</td>\n",
              "      <td>6</td>\n",
              "      <td>1</td>\n",
              "      <td>No</td>\n",
              "      <td>No</td>\n",
              "      <td>0</td>\n",
              "    </tr>\n",
              "    <tr>\n",
              "      <th>1</th>\n",
              "      <td>31</td>\n",
              "      <td>Private Sector/Self Employed</td>\n",
              "      <td>Yes</td>\n",
              "      <td>1250000</td>\n",
              "      <td>7</td>\n",
              "      <td>0</td>\n",
              "      <td>No</td>\n",
              "      <td>No</td>\n",
              "      <td>0</td>\n",
              "    </tr>\n",
              "    <tr>\n",
              "      <th>2</th>\n",
              "      <td>34</td>\n",
              "      <td>Private Sector/Self Employed</td>\n",
              "      <td>Yes</td>\n",
              "      <td>500000</td>\n",
              "      <td>4</td>\n",
              "      <td>1</td>\n",
              "      <td>No</td>\n",
              "      <td>No</td>\n",
              "      <td>1</td>\n",
              "    </tr>\n",
              "    <tr>\n",
              "      <th>3</th>\n",
              "      <td>28</td>\n",
              "      <td>Private Sector/Self Employed</td>\n",
              "      <td>Yes</td>\n",
              "      <td>700000</td>\n",
              "      <td>3</td>\n",
              "      <td>1</td>\n",
              "      <td>No</td>\n",
              "      <td>No</td>\n",
              "      <td>0</td>\n",
              "    </tr>\n",
              "    <tr>\n",
              "      <th>4</th>\n",
              "      <td>28</td>\n",
              "      <td>Private Sector/Self Employed</td>\n",
              "      <td>Yes</td>\n",
              "      <td>700000</td>\n",
              "      <td>8</td>\n",
              "      <td>1</td>\n",
              "      <td>Yes</td>\n",
              "      <td>No</td>\n",
              "      <td>0</td>\n",
              "    </tr>\n",
              "  </tbody>\n",
              "</table>\n",
              "</div>\n",
              "      <button class=\"colab-df-convert\" onclick=\"convertToInteractive('df-9e29ee1b-8aa4-4ff7-b5d1-e4ae8a0dc4b4')\"\n",
              "              title=\"Convert this dataframe to an interactive table.\"\n",
              "              style=\"display:none;\">\n",
              "        \n",
              "  <svg xmlns=\"http://www.w3.org/2000/svg\" height=\"24px\"viewBox=\"0 0 24 24\"\n",
              "       width=\"24px\">\n",
              "    <path d=\"M0 0h24v24H0V0z\" fill=\"none\"/>\n",
              "    <path d=\"M18.56 5.44l.94 2.06.94-2.06 2.06-.94-2.06-.94-.94-2.06-.94 2.06-2.06.94zm-11 1L8.5 8.5l.94-2.06 2.06-.94-2.06-.94L8.5 2.5l-.94 2.06-2.06.94zm10 10l.94 2.06.94-2.06 2.06-.94-2.06-.94-.94-2.06-.94 2.06-2.06.94z\"/><path d=\"M17.41 7.96l-1.37-1.37c-.4-.4-.92-.59-1.43-.59-.52 0-1.04.2-1.43.59L10.3 9.45l-7.72 7.72c-.78.78-.78 2.05 0 2.83L4 21.41c.39.39.9.59 1.41.59.51 0 1.02-.2 1.41-.59l7.78-7.78 2.81-2.81c.8-.78.8-2.07 0-2.86zM5.41 20L4 18.59l7.72-7.72 1.47 1.35L5.41 20z\"/>\n",
              "  </svg>\n",
              "      </button>\n",
              "      \n",
              "  <style>\n",
              "    .colab-df-container {\n",
              "      display:flex;\n",
              "      flex-wrap:wrap;\n",
              "      gap: 12px;\n",
              "    }\n",
              "\n",
              "    .colab-df-convert {\n",
              "      background-color: #E8F0FE;\n",
              "      border: none;\n",
              "      border-radius: 50%;\n",
              "      cursor: pointer;\n",
              "      display: none;\n",
              "      fill: #1967D2;\n",
              "      height: 32px;\n",
              "      padding: 0 0 0 0;\n",
              "      width: 32px;\n",
              "    }\n",
              "\n",
              "    .colab-df-convert:hover {\n",
              "      background-color: #E2EBFA;\n",
              "      box-shadow: 0px 1px 2px rgba(60, 64, 67, 0.3), 0px 1px 3px 1px rgba(60, 64, 67, 0.15);\n",
              "      fill: #174EA6;\n",
              "    }\n",
              "\n",
              "    [theme=dark] .colab-df-convert {\n",
              "      background-color: #3B4455;\n",
              "      fill: #D2E3FC;\n",
              "    }\n",
              "\n",
              "    [theme=dark] .colab-df-convert:hover {\n",
              "      background-color: #434B5C;\n",
              "      box-shadow: 0px 1px 3px 1px rgba(0, 0, 0, 0.15);\n",
              "      filter: drop-shadow(0px 1px 2px rgba(0, 0, 0, 0.3));\n",
              "      fill: #FFFFFF;\n",
              "    }\n",
              "  </style>\n",
              "\n",
              "      <script>\n",
              "        const buttonEl =\n",
              "          document.querySelector('#df-9e29ee1b-8aa4-4ff7-b5d1-e4ae8a0dc4b4 button.colab-df-convert');\n",
              "        buttonEl.style.display =\n",
              "          google.colab.kernel.accessAllowed ? 'block' : 'none';\n",
              "\n",
              "        async function convertToInteractive(key) {\n",
              "          const element = document.querySelector('#df-9e29ee1b-8aa4-4ff7-b5d1-e4ae8a0dc4b4');\n",
              "          const dataTable =\n",
              "            await google.colab.kernel.invokeFunction('convertToInteractive',\n",
              "                                                     [key], {});\n",
              "          if (!dataTable) return;\n",
              "\n",
              "          const docLinkHtml = 'Like what you see? Visit the ' +\n",
              "            '<a target=\"_blank\" href=https://colab.research.google.com/notebooks/data_table.ipynb>data table notebook</a>'\n",
              "            + ' to learn more about interactive tables.';\n",
              "          element.innerHTML = '';\n",
              "          dataTable['output_type'] = 'display_data';\n",
              "          await google.colab.output.renderOutput(dataTable, element);\n",
              "          const docLink = document.createElement('div');\n",
              "          docLink.innerHTML = docLinkHtml;\n",
              "          element.appendChild(docLink);\n",
              "        }\n",
              "      </script>\n",
              "    </div>\n",
              "  </div>\n",
              "  "
            ]
          },
          "metadata": {},
          "execution_count": 5
        }
      ]
    },
    {
      "cell_type": "markdown",
      "source": [
        "There is no time data and all the rows seem to be independent from each other.\n",
        "\n",
        "Let's also quickly transform all column names to snake case."
      ],
      "metadata": {
        "id": "h2BAVKBnbyza"
      }
    },
    {
      "cell_type": "code",
      "source": [
        "rename_columns = {}\n",
        "for column in data.columns:\n",
        "  name = re.sub(r' ', '', column)\n",
        "  name = re.sub(r'(?<!^)(?=[A-Z])', '_', name).lower()\n",
        "  rename_columns[column] = name\n",
        "data = data.rename(columns=rename_columns)"
      ],
      "metadata": {
        "id": "AWd6Ha92XrLz"
      },
      "execution_count": null,
      "outputs": []
    },
    {
      "cell_type": "code",
      "source": [
        "data.shape"
      ],
      "metadata": {
        "colab": {
          "base_uri": "https://localhost:8080/"
        },
        "id": "hXyW9mfX8LeC",
        "outputId": "e12a2f2a-f99d-4f75-8a2c-b60fb950796f"
      },
      "execution_count": null,
      "outputs": [
        {
          "output_type": "execute_result",
          "data": {
            "text/plain": [
              "(1987, 9)"
            ]
          },
          "metadata": {},
          "execution_count": 7
        }
      ]
    },
    {
      "cell_type": "code",
      "source": [
        "draw_proportion_barplot(data[\"travel_insurance\"].value_counts(), [\"Proportion of values in travel_insurance column\", \"Proportion\", \"\", \"\"])"
      ],
      "metadata": {
        "id": "xUQn1Azdd6GZ",
        "outputId": "4f3d614d-f887-4b79-a54d-3cc8d16fa652",
        "colab": {
          "base_uri": "https://localhost:8080/",
          "height": 246
        }
      },
      "execution_count": null,
      "outputs": [
        {
          "output_type": "display_data",
          "data": {
            "text/plain": [
              "<Figure size 1440x216 with 2 Axes>"
            ],
            "image/png": "[encoded data removed]"
          },
          "metadata": {}
        }
      ]
    },
    {
      "cell_type": "markdown",
      "source": [
        "As we can see, the data in the target column is distributed between the classes unequaly. To mitigate this, we will use stratified split."
      ],
      "metadata": {
        "id": "1hUsOrlpb-4W"
      }
    },
    {
      "cell_type": "code",
      "source": [
        "train_set, test_set = train_test_split(data, test_size=0.2, random_state=42, stratify=data[\"travel_insurance\"])"
      ],
      "metadata": {
        "id": "pxkIKbtDcxxD"
      },
      "execution_count": null,
      "outputs": []
    },
    {
      "cell_type": "markdown",
      "source": [
        "Since the dataset is not too large, we will use cross validation instead of hold out sample for model validation - so no more splitting is needed. \n",
        "\n",
        "Let's move on to the EDA part."
      ],
      "metadata": {
        "id": "agUToOkNtUiQ"
      }
    },
    {
      "cell_type": "markdown",
      "source": [
        "##EDA"
      ],
      "metadata": {
        "id": "3kU2WQEFt2Jo"
      }
    },
    {
      "cell_type": "code",
      "source": [
        "train_set.head()"
      ],
      "metadata": {
        "id": "IbC8BiG-u-Yk",
        "outputId": "7afa87dc-9aed-4dc5-af83-6d4b8ed8868f",
        "colab": {
          "base_uri": "https://localhost:8080/"
        }
      },
      "execution_count": null,
      "outputs": [
        {
          "output_type": "execute_result",
          "data": {
            "text/plain": [
              "      age               employment_type graduate_or_not  annual_income  \\\n",
              "1617   28  Private Sector/Self Employed             Yes        1150000   \n",
              "675    27  Private Sector/Self Employed              No         350000   \n",
              "127    27             Government Sector             Yes         750000   \n",
              "1334   25             Government Sector             Yes         750000   \n",
              "1425   28             Government Sector             Yes         600000   \n",
              "\n",
              "      family_members  chronic_diseases frequent_flyer ever_travelled_abroad  \\\n",
              "1617               7                 1             No                    No   \n",
              "675                3                 0             No                    No   \n",
              "127                5                 0             No                    No   \n",
              "1334               3                 0             No                   Yes   \n",
              "1425               4                 0             No                    No   \n",
              "\n",
              "      travel_insurance  \n",
              "1617                 0  \n",
              "675                  0  \n",
              "127                  0  \n",
              "1334                 1  \n",
              "1425                 0  "
            ],
            "text/html": [
              "\n",
              "  <div id=\"df-a2aa152c-20e0-45ea-8563-3815ce757f89\">\n",
              "    <div class=\"colab-df-container\">\n",
              "      <div>\n",
              "<style scoped>\n",
              "    .dataframe tbody tr th:only-of-type {\n",
              "        vertical-align: middle;\n",
              "    }\n",
              "\n",
              "    .dataframe tbody tr th {\n",
              "        vertical-align: top;\n",
              "    }\n",
              "\n",
              "    .dataframe thead th {\n",
              "        text-align: right;\n",
              "    }\n",
              "</style>\n",
              "<table border=\"1\" class=\"dataframe\">\n",
              "  <thead>\n",
              "    <tr style=\"text-align: right;\">\n",
              "      <th></th>\n",
              "      <th>age</th>\n",
              "      <th>employment_type</th>\n",
              "      <th>graduate_or_not</th>\n",
              "      <th>annual_income</th>\n",
              "      <th>family_members</th>\n",
              "      <th>chronic_diseases</th>\n",
              "      <th>frequent_flyer</th>\n",
              "      <th>ever_travelled_abroad</th>\n",
              "      <th>travel_insurance</th>\n",
              "    </tr>\n",
              "  </thead>\n",
              "  <tbody>\n",
              "    <tr>\n",
              "      <th>1617</th>\n",
              "      <td>28</td>\n",
              "      <td>Private Sector/Self Employed</td>\n",
              "      <td>Yes</td>\n",
              "      <td>1150000</td>\n",
              "      <td>7</td>\n",
              "      <td>1</td>\n",
              "      <td>No</td>\n",
              "      <td>No</td>\n",
              "      <td>0</td>\n",
              "    </tr>\n",
              "    <tr>\n",
              "      <th>675</th>\n",
              "      <td>27</td>\n",
              "      <td>Private Sector/Self Employed</td>\n",
              "      <td>No</td>\n",
              "      <td>350000</td>\n",
              "      <td>3</td>\n",
              "      <td>0</td>\n",
              "      <td>No</td>\n",
              "      <td>No</td>\n",
              "      <td>0</td>\n",
              "    </tr>\n",
              "    <tr>\n",
              "      <th>127</th>\n",
              "      <td>27</td>\n",
              "      <td>Government Sector</td>\n",
              "      <td>Yes</td>\n",
              "      <td>750000</td>\n",
              "      <td>5</td>\n",
              "      <td>0</td>\n",
              "      <td>No</td>\n",
              "      <td>No</td>\n",
              "      <td>0</td>\n",
              "    </tr>\n",
              "    <tr>\n",
              "      <th>1334</th>\n",
              "      <td>25</td>\n",
              "      <td>Government Sector</td>\n",
              "      <td>Yes</td>\n",
              "      <td>750000</td>\n",
              "      <td>3</td>\n",
              "      <td>0</td>\n",
              "      <td>No</td>\n",
              "      <td>Yes</td>\n",
              "      <td>1</td>\n",
              "    </tr>\n",
              "    <tr>\n",
              "      <th>1425</th>\n",
              "      <td>28</td>\n",
              "      <td>Government Sector</td>\n",
              "      <td>Yes</td>\n",
              "      <td>600000</td>\n",
              "      <td>4</td>\n",
              "      <td>0</td>\n",
              "      <td>No</td>\n",
              "      <td>No</td>\n",
              "      <td>0</td>\n",
              "    </tr>\n",
              "  </tbody>\n",
              "</table>\n",
              "</div>\n",
              "      <button class=\"colab-df-convert\" onclick=\"convertToInteractive('df-a2aa152c-20e0-45ea-8563-3815ce757f89')\"\n",
              "              title=\"Convert this dataframe to an interactive table.\"\n",
              "              style=\"display:none;\">\n",
              "        \n",
              "  <svg xmlns=\"http://www.w3.org/2000/svg\" height=\"24px\"viewBox=\"0 0 24 24\"\n",
              "       width=\"24px\">\n",
              "    <path d=\"M0 0h24v24H0V0z\" fill=\"none\"/>\n",
              "    <path d=\"M18.56 5.44l.94 2.06.94-2.06 2.06-.94-2.06-.94-.94-2.06-.94 2.06-2.06.94zm-11 1L8.5 8.5l.94-2.06 2.06-.94-2.06-.94L8.5 2.5l-.94 2.06-2.06.94zm10 10l.94 2.06.94-2.06 2.06-.94-2.06-.94-.94-2.06-.94 2.06-2.06.94z\"/><path d=\"M17.41 7.96l-1.37-1.37c-.4-.4-.92-.59-1.43-.59-.52 0-1.04.2-1.43.59L10.3 9.45l-7.72 7.72c-.78.78-.78 2.05 0 2.83L4 21.41c.39.39.9.59 1.41.59.51 0 1.02-.2 1.41-.59l7.78-7.78 2.81-2.81c.8-.78.8-2.07 0-2.86zM5.41 20L4 18.59l7.72-7.72 1.47 1.35L5.41 20z\"/>\n",
              "  </svg>\n",
              "      </button>\n",
              "      \n",
              "  <style>\n",
              "    .colab-df-container {\n",
              "      display:flex;\n",
              "      flex-wrap:wrap;\n",
              "      gap: 12px;\n",
              "    }\n",
              "\n",
              "    .colab-df-convert {\n",
              "      background-color: #E8F0FE;\n",
              "      border: none;\n",
              "      border-radius: 50%;\n",
              "      cursor: pointer;\n",
              "      display: none;\n",
              "      fill: #1967D2;\n",
              "      height: 32px;\n",
              "      padding: 0 0 0 0;\n",
              "      width: 32px;\n",
              "    }\n",
              "\n",
              "    .colab-df-convert:hover {\n",
              "      background-color: #E2EBFA;\n",
              "      box-shadow: 0px 1px 2px rgba(60, 64, 67, 0.3), 0px 1px 3px 1px rgba(60, 64, 67, 0.15);\n",
              "      fill: #174EA6;\n",
              "    }\n",
              "\n",
              "    [theme=dark] .colab-df-convert {\n",
              "      background-color: #3B4455;\n",
              "      fill: #D2E3FC;\n",
              "    }\n",
              "\n",
              "    [theme=dark] .colab-df-convert:hover {\n",
              "      background-color: #434B5C;\n",
              "      box-shadow: 0px 1px 3px 1px rgba(0, 0, 0, 0.15);\n",
              "      filter: drop-shadow(0px 1px 2px rgba(0, 0, 0, 0.3));\n",
              "      fill: #FFFFFF;\n",
              "    }\n",
              "  </style>\n",
              "\n",
              "      <script>\n",
              "        const buttonEl =\n",
              "          document.querySelector('#df-a2aa152c-20e0-45ea-8563-3815ce757f89 button.colab-df-convert');\n",
              "        buttonEl.style.display =\n",
              "          google.colab.kernel.accessAllowed ? 'block' : 'none';\n",
              "\n",
              "        async function convertToInteractive(key) {\n",
              "          const element = document.querySelector('#df-a2aa152c-20e0-45ea-8563-3815ce757f89');\n",
              "          const dataTable =\n",
              "            await google.colab.kernel.invokeFunction('convertToInteractive',\n",
              "                                                     [key], {});\n",
              "          if (!dataTable) return;\n",
              "\n",
              "          const docLinkHtml = 'Like what you see? Visit the ' +\n",
              "            '<a target=\"_blank\" href=https://colab.research.google.com/notebooks/data_table.ipynb>data table notebook</a>'\n",
              "            + ' to learn more about interactive tables.';\n",
              "          element.innerHTML = '';\n",
              "          dataTable['output_type'] = 'display_data';\n",
              "          await google.colab.output.renderOutput(dataTable, element);\n",
              "          const docLink = document.createElement('div');\n",
              "          docLink.innerHTML = docLinkHtml;\n",
              "          element.appendChild(docLink);\n",
              "        }\n",
              "      </script>\n",
              "    </div>\n",
              "  </div>\n",
              "  "
            ]
          },
          "metadata": {},
          "execution_count": 10
        }
      ]
    },
    {
      "cell_type": "code",
      "source": [
        "train_set.isnull().sum().sum()"
      ],
      "metadata": {
        "id": "pW35w9VIvGVT",
        "outputId": "55096d14-f755-41ac-eedb-a4ddbb551767",
        "colab": {
          "base_uri": "https://localhost:8080/"
        }
      },
      "execution_count": null,
      "outputs": [
        {
          "output_type": "execute_result",
          "data": {
            "text/plain": [
              "0"
            ]
          },
          "metadata": {},
          "execution_count": 11
        }
      ]
    },
    {
      "cell_type": "markdown",
      "source": [
        "There are no missing values in the dataset.\n",
        "\n",
        "Let's explore the features one by one."
      ],
      "metadata": {
        "id": "1n2rIcsmAx1K"
      }
    },
    {
      "cell_type": "code",
      "source": [
        "draw_boxplot(train_set, \"age\", [\"Distribution of values in the Age column\", \"Age\", \"\"])"
      ],
      "metadata": {
        "id": "gSr6gFznvlYo",
        "outputId": "66925386-6c3e-465e-913d-fe7aff0954b3",
        "colab": {
          "base_uri": "https://localhost:8080/"
        }
      },
      "execution_count": null,
      "outputs": [
        {
          "output_type": "display_data",
          "data": {
            "text/plain": [
              "<Figure size 1440x216 with 1 Axes>"
            ],
            "image/png": "[encoded data removed]"
          },
          "metadata": {}
        }
      ]
    },
    {
      "cell_type": "markdown",
      "source": [
        "As we can see the age of customers range from 25 to 35 with the majority being 28 - 30 years old."
      ],
      "metadata": {
        "id": "U3CsYYVH_W1y"
      }
    },
    {
      "cell_type": "code",
      "source": [
        "draw_proportion_barplot(train_set[\"employment_type\"].value_counts().sort_values(ascending=True), [\"Proportion of values in employement_type column\", \"Proportion\", \"\", \"\"])"
      ],
      "metadata": {
        "id": "y3k6jAQxefG1",
        "outputId": "644aaf06-a91b-480c-b2b6-73f805daa27c",
        "colab": {
          "base_uri": "https://localhost:8080/"
        }
      },
      "execution_count": null,
      "outputs": [
        {
          "output_type": "display_data",
          "data": {
            "text/plain": [
              "<Figure size 1440x216 with 2 Axes>"
            ],
            "image/png": "[encoded data removed]"
          },
          "metadata": {}
        }
      ]
    },
    {
      "cell_type": "markdown",
      "source": [
        "Majority of the customers work in private sector, while about a third is employed by the governement."
      ],
      "metadata": {
        "id": "5ebNkF5VAf0S"
      }
    },
    {
      "cell_type": "code",
      "source": [
        "draw_proportion_barplot(train_set[\"graduate_or_not\"].value_counts().sort_values(ascending=True), [\"Proportion of values in graduate_or_not column\", \"Proportion\", \"\", \"\"])"
      ],
      "metadata": {
        "id": "wKjGTZV_e1Av",
        "outputId": "7bb6f247-7da8-4b38-f073-68134577d2dc",
        "colab": {
          "base_uri": "https://localhost:8080/"
        }
      },
      "execution_count": null,
      "outputs": [
        {
          "output_type": "display_data",
          "data": {
            "text/plain": [
              "<Figure size 1440x216 with 2 Axes>"
            ],
            "image/png": "[encoded data removed]"
          },
          "metadata": {}
        }
      ]
    },
    {
      "cell_type": "markdown",
      "source": [
        "Almost all of the customers have graduated college."
      ],
      "metadata": {
        "id": "pYvgj3cJBQCP"
      }
    },
    {
      "cell_type": "code",
      "source": [
        "train_set[\"scaled_annual_income\"] = train_set[\"annual_income\"]/1000000"
      ],
      "metadata": {
        "id": "SlEE9rY6COVe"
      },
      "execution_count": null,
      "outputs": []
    },
    {
      "cell_type": "code",
      "source": [
        "draw_histplot(train_set, \"scaled_annual_income\", [\"Distribution of values in the annual_income column\", \"Annual income (millions of rupees)\", \"Count\"])"
      ],
      "metadata": {
        "id": "MCjpjmNcBwIa",
        "outputId": "d73d2363-2122-48d5-83f7-bcb3c281f9d0",
        "colab": {
          "base_uri": "https://localhost:8080/"
        }
      },
      "execution_count": null,
      "outputs": [
        {
          "output_type": "display_data",
          "data": {
            "text/plain": [
              "<Figure size 1440x720 with 1 Axes>"
            ],
            "image/png": "[encoded data removed]"
          },
          "metadata": {}
        }
      ]
    },
    {
      "cell_type": "code",
      "source": [
        "draw_boxplot(train_set, \"scaled_annual_income\", [\"Distribution of values in the annual_income column\", \"Annual income (millions of rupees)\", \" \"])"
      ],
      "metadata": {
        "id": "Wsw4gqVfClkl",
        "outputId": "538bf9ab-3629-4367-f8e1-e7edcd423a65",
        "colab": {
          "base_uri": "https://localhost:8080/"
        }
      },
      "execution_count": null,
      "outputs": [
        {
          "output_type": "display_data",
          "data": {
            "text/plain": [
              "<Figure size 1440x216 with 1 Axes>"
            ],
            "image/png": "[encoded data removed]"
          },
          "metadata": {}
        }
      ]
    },
    {
      "cell_type": "markdown",
      "source": [
        "The annual income seems to be slightly right skewed with the mean at about 0.9 million rupees (approx. 11,600 USD) and min as low as 0.3 million rupees (approx. 3,900 USD)."
      ],
      "metadata": {
        "id": "J4-2rQ9xDczl"
      }
    },
    {
      "cell_type": "code",
      "source": [
        "temp = train_set[\"family_members\"].value_counts().to_frame().reset_index().rename(columns={\"family_members\":\"count\", \"index\":\"family_members\"})\n",
        "draw_color_barplot(temp, \"family_members\", \"count\", \"family_members\",  [\"Distribution of values in the family_members column\", \"Count of family members\", \"Count\"], [4])"
      ],
      "metadata": {
        "id": "KKzl76AaDSb8",
        "outputId": "d519f4c6-4a26-4e57-a21e-a6f714fd659b",
        "colab": {
          "base_uri": "https://localhost:8080/"
        }
      },
      "execution_count": null,
      "outputs": [
        {
          "output_type": "display_data",
          "data": {
            "text/plain": [
              "<Figure size 1440x720 with 1 Axes>"
            ],
            "image/png": "[encoded data removed]"
          },
          "metadata": {}
        }
      ]
    },
    {
      "cell_type": "markdown",
      "source": [
        "Most of the customers have from 3 to 5 members in their family, but some have as many as 9."
      ],
      "metadata": {
        "id": "b9pUCfEQQSa5"
      }
    },
    {
      "cell_type": "code",
      "source": [
        "draw_proportion_barplot(train_set[\"chronic_diseases\"].value_counts(), [\"Proportion of values in chronic_diseases column\", \"Proportion\", \"\", \"\"])"
      ],
      "metadata": {
        "id": "sGzKFmuFe_fT",
        "outputId": "7959d91f-26d1-4cbe-f100-5af23a792c9e",
        "colab": {
          "base_uri": "https://localhost:8080/"
        }
      },
      "execution_count": null,
      "outputs": [
        {
          "output_type": "display_data",
          "data": {
            "text/plain": [
              "<Figure size 1440x216 with 2 Axes>"
            ],
            "image/png": "[encoded data removed]"
          },
          "metadata": {}
        }
      ]
    },
    {
      "cell_type": "markdown",
      "source": [
        "Slightly less than a third of the customers have reported that they have a chronic illness."
      ],
      "metadata": {
        "id": "urDS5m9sQuWW"
      }
    },
    {
      "cell_type": "code",
      "source": [
        "draw_proportion_barplot(train_set[\"frequent_flyer\"].value_counts(), [\"Proportion of values in frequent_flyer column\", \"Proportion\", \"\", \"\"])"
      ],
      "metadata": {
        "id": "Ed-IVQybfEzx",
        "outputId": "1b5e8c19-bfdd-4e4b-9fd0-6b340d6ccac5",
        "colab": {
          "base_uri": "https://localhost:8080/"
        }
      },
      "execution_count": null,
      "outputs": [
        {
          "output_type": "display_data",
          "data": {
            "text/plain": [
              "<Figure size 1440x216 with 2 Axes>"
            ],
            "image/png": "[encoded data removed]"
          },
          "metadata": {}
        }
      ]
    },
    {
      "cell_type": "markdown",
      "source": [
        "Only 20 % of customers are frequent flyers."
      ],
      "metadata": {
        "id": "KAzgipXGRGoR"
      }
    },
    {
      "cell_type": "code",
      "source": [
        "draw_proportion_barplot(train_set[\"ever_travelled_abroad\"].value_counts(), [\"Proportion of values in ever_travelled_abroad column\", \"Proportion\", \"\", \"\"])"
      ],
      "metadata": {
        "id": "y0Qkh_LaZgdc",
        "outputId": "c8e8422a-335c-4e58-dd1e-78f7a120f046",
        "colab": {
          "base_uri": "https://localhost:8080/"
        }
      },
      "execution_count": null,
      "outputs": [
        {
          "output_type": "display_data",
          "data": {
            "text/plain": [
              "<Figure size 1440x216 with 2 Axes>"
            ],
            "image/png": "[encoded data removed]"
          },
          "metadata": {}
        }
      ]
    },
    {
      "cell_type": "markdown",
      "source": [
        "And also only about 20% of the customers have ever traveled abroad.\n",
        "\n",
        "Let's test some hypothesis before moving forward!"
      ],
      "metadata": {
        "id": "TqeSvepgw9Jh"
      }
    },
    {
      "cell_type": "code",
      "source": [
        "train_set.head()"
      ],
      "metadata": {
        "id": "a9gvRXS5ZuAh",
        "outputId": "963bdc63-ddbe-4110-bbe6-4164b71de482",
        "colab": {
          "base_uri": "https://localhost:8080/"
        }
      },
      "execution_count": null,
      "outputs": [
        {
          "output_type": "execute_result",
          "data": {
            "text/plain": [
              "      age               employment_type graduate_or_not  annual_income  \\\n",
              "1617   28  Private Sector/Self Employed             Yes        1150000   \n",
              "675    27  Private Sector/Self Employed              No         350000   \n",
              "127    27             Government Sector             Yes         750000   \n",
              "1334   25             Government Sector             Yes         750000   \n",
              "1425   28             Government Sector             Yes         600000   \n",
              "\n",
              "      family_members  chronic_diseases frequent_flyer ever_travelled_abroad  \\\n",
              "1617               7                 1             No                    No   \n",
              "675                3                 0             No                    No   \n",
              "127                5                 0             No                    No   \n",
              "1334               3                 0             No                   Yes   \n",
              "1425               4                 0             No                    No   \n",
              "\n",
              "      travel_insurance  scaled_annual_income  \n",
              "1617                 0                  1.15  \n",
              "675                  0                  0.35  \n",
              "127                  0                  0.75  \n",
              "1334                 1                  0.75  \n",
              "1425                 0                  0.60  "
            ],
            "text/html": [
              "\n",
              "  <div id=\"df-307b4382-6e89-42e3-88be-103e469e3079\">\n",
              "    <div class=\"colab-df-container\">\n",
              "      <div>\n",
              "<style scoped>\n",
              "    .dataframe tbody tr th:only-of-type {\n",
              "        vertical-align: middle;\n",
              "    }\n",
              "\n",
              "    .dataframe tbody tr th {\n",
              "        vertical-align: top;\n",
              "    }\n",
              "\n",
              "    .dataframe thead th {\n",
              "        text-align: right;\n",
              "    }\n",
              "</style>\n",
              "<table border=\"1\" class=\"dataframe\">\n",
              "  <thead>\n",
              "    <tr style=\"text-align: right;\">\n",
              "      <th></th>\n",
              "      <th>age</th>\n",
              "      <th>employment_type</th>\n",
              "      <th>graduate_or_not</th>\n",
              "      <th>annual_income</th>\n",
              "      <th>family_members</th>\n",
              "      <th>chronic_diseases</th>\n",
              "      <th>frequent_flyer</th>\n",
              "      <th>ever_travelled_abroad</th>\n",
              "      <th>travel_insurance</th>\n",
              "      <th>scaled_annual_income</th>\n",
              "    </tr>\n",
              "  </thead>\n",
              "  <tbody>\n",
              "    <tr>\n",
              "      <th>1617</th>\n",
              "      <td>28</td>\n",
              "      <td>Private Sector/Self Employed</td>\n",
              "      <td>Yes</td>\n",
              "      <td>1150000</td>\n",
              "      <td>7</td>\n",
              "      <td>1</td>\n",
              "      <td>No</td>\n",
              "      <td>No</td>\n",
              "      <td>0</td>\n",
              "      <td>1.15</td>\n",
              "    </tr>\n",
              "    <tr>\n",
              "      <th>675</th>\n",
              "      <td>27</td>\n",
              "      <td>Private Sector/Self Employed</td>\n",
              "      <td>No</td>\n",
              "      <td>350000</td>\n",
              "      <td>3</td>\n",
              "      <td>0</td>\n",
              "      <td>No</td>\n",
              "      <td>No</td>\n",
              "      <td>0</td>\n",
              "      <td>0.35</td>\n",
              "    </tr>\n",
              "    <tr>\n",
              "      <th>127</th>\n",
              "      <td>27</td>\n",
              "      <td>Government Sector</td>\n",
              "      <td>Yes</td>\n",
              "      <td>750000</td>\n",
              "      <td>5</td>\n",
              "      <td>0</td>\n",
              "      <td>No</td>\n",
              "      <td>No</td>\n",
              "      <td>0</td>\n",
              "      <td>0.75</td>\n",
              "    </tr>\n",
              "    <tr>\n",
              "      <th>1334</th>\n",
              "      <td>25</td>\n",
              "      <td>Government Sector</td>\n",
              "      <td>Yes</td>\n",
              "      <td>750000</td>\n",
              "      <td>3</td>\n",
              "      <td>0</td>\n",
              "      <td>No</td>\n",
              "      <td>Yes</td>\n",
              "      <td>1</td>\n",
              "      <td>0.75</td>\n",
              "    </tr>\n",
              "    <tr>\n",
              "      <th>1425</th>\n",
              "      <td>28</td>\n",
              "      <td>Government Sector</td>\n",
              "      <td>Yes</td>\n",
              "      <td>600000</td>\n",
              "      <td>4</td>\n",
              "      <td>0</td>\n",
              "      <td>No</td>\n",
              "      <td>No</td>\n",
              "      <td>0</td>\n",
              "      <td>0.60</td>\n",
              "    </tr>\n",
              "  </tbody>\n",
              "</table>\n",
              "</div>\n",
              "      <button class=\"colab-df-convert\" onclick=\"convertToInteractive('df-307b4382-6e89-42e3-88be-103e469e3079')\"\n",
              "              title=\"Convert this dataframe to an interactive table.\"\n",
              "              style=\"display:none;\">\n",
              "        \n",
              "  <svg xmlns=\"http://www.w3.org/2000/svg\" height=\"24px\"viewBox=\"0 0 24 24\"\n",
              "       width=\"24px\">\n",
              "    <path d=\"M0 0h24v24H0V0z\" fill=\"none\"/>\n",
              "    <path d=\"M18.56 5.44l.94 2.06.94-2.06 2.06-.94-2.06-.94-.94-2.06-.94 2.06-2.06.94zm-11 1L8.5 8.5l.94-2.06 2.06-.94-2.06-.94L8.5 2.5l-.94 2.06-2.06.94zm10 10l.94 2.06.94-2.06 2.06-.94-2.06-.94-.94-2.06-.94 2.06-2.06.94z\"/><path d=\"M17.41 7.96l-1.37-1.37c-.4-.4-.92-.59-1.43-.59-.52 0-1.04.2-1.43.59L10.3 9.45l-7.72 7.72c-.78.78-.78 2.05 0 2.83L4 21.41c.39.39.9.59 1.41.59.51 0 1.02-.2 1.41-.59l7.78-7.78 2.81-2.81c.8-.78.8-2.07 0-2.86zM5.41 20L4 18.59l7.72-7.72 1.47 1.35L5.41 20z\"/>\n",
              "  </svg>\n",
              "      </button>\n",
              "      \n",
              "  <style>\n",
              "    .colab-df-container {\n",
              "      display:flex;\n",
              "      flex-wrap:wrap;\n",
              "      gap: 12px;\n",
              "    }\n",
              "\n",
              "    .colab-df-convert {\n",
              "      background-color: #E8F0FE;\n",
              "      border: none;\n",
              "      border-radius: 50%;\n",
              "      cursor: pointer;\n",
              "      display: none;\n",
              "      fill: #1967D2;\n",
              "      height: 32px;\n",
              "      padding: 0 0 0 0;\n",
              "      width: 32px;\n",
              "    }\n",
              "\n",
              "    .colab-df-convert:hover {\n",
              "      background-color: #E2EBFA;\n",
              "      box-shadow: 0px 1px 2px rgba(60, 64, 67, 0.3), 0px 1px 3px 1px rgba(60, 64, 67, 0.15);\n",
              "      fill: #174EA6;\n",
              "    }\n",
              "\n",
              "    [theme=dark] .colab-df-convert {\n",
              "      background-color: #3B4455;\n",
              "      fill: #D2E3FC;\n",
              "    }\n",
              "\n",
              "    [theme=dark] .colab-df-convert:hover {\n",
              "      background-color: #434B5C;\n",
              "      box-shadow: 0px 1px 3px 1px rgba(0, 0, 0, 0.15);\n",
              "      filter: drop-shadow(0px 1px 2px rgba(0, 0, 0, 0.3));\n",
              "      fill: #FFFFFF;\n",
              "    }\n",
              "  </style>\n",
              "\n",
              "      <script>\n",
              "        const buttonEl =\n",
              "          document.querySelector('#df-307b4382-6e89-42e3-88be-103e469e3079 button.colab-df-convert');\n",
              "        buttonEl.style.display =\n",
              "          google.colab.kernel.accessAllowed ? 'block' : 'none';\n",
              "\n",
              "        async function convertToInteractive(key) {\n",
              "          const element = document.querySelector('#df-307b4382-6e89-42e3-88be-103e469e3079');\n",
              "          const dataTable =\n",
              "            await google.colab.kernel.invokeFunction('convertToInteractive',\n",
              "                                                     [key], {});\n",
              "          if (!dataTable) return;\n",
              "\n",
              "          const docLinkHtml = 'Like what you see? Visit the ' +\n",
              "            '<a target=\"_blank\" href=https://colab.research.google.com/notebooks/data_table.ipynb>data table notebook</a>'\n",
              "            + ' to learn more about interactive tables.';\n",
              "          element.innerHTML = '';\n",
              "          dataTable['output_type'] = 'display_data';\n",
              "          await google.colab.output.renderOutput(dataTable, element);\n",
              "          const docLink = document.createElement('div');\n",
              "          docLink.innerHTML = docLinkHtml;\n",
              "          element.appendChild(docLink);\n",
              "        }\n",
              "      </script>\n",
              "    </div>\n",
              "  </div>\n",
              "  "
            ]
          },
          "metadata": {},
          "execution_count": 22
        }
      ]
    },
    {
      "cell_type": "markdown",
      "source": [
        "*Considering customers that have and those that haven't bought travel insurance, does the annual income differ substantially between the two groups?*\n",
        "\n",
        "**Null hypothesis**: The annual income is the same for both customers that bought the insurance as well as those who didn't.\n",
        "\n",
        "**Alternative hypothesis**: The customers that bought insurance have a larger mean annual income than those who didn't.\n",
        "\n",
        "The sample size is big enough that we don't need to worry about normalty of our data."
      ],
      "metadata": {
        "id": "LpghHqhn1Syj"
      }
    },
    {
      "cell_type": "code",
      "source": [
        "ins_true = train_set.loc[train_set[\"travel_insurance\"] == 1, \"annual_income\"]\n",
        "ins_false = train_set.loc[train_set[\"travel_insurance\"] == 0, \"annual_income\"]\n",
        "sm.stats.CompareMeans.from_data(ins_false, ins_true).ztest_ind(usevar=\"unequal\", alternative=\"smaller\")"
      ],
      "metadata": {
        "id": "hLk7IfUnx-P-",
        "outputId": "2b9c101b-6f96-402f-d65c-b4dd6e0e6a8c",
        "colab": {
          "base_uri": "https://localhost:8080/"
        }
      },
      "execution_count": null,
      "outputs": [
        {
          "output_type": "execute_result",
          "data": {
            "text/plain": [
              "(-16.942732795918218, 1.0888447973073454e-64)"
            ]
          },
          "metadata": {},
          "execution_count": 23
        }
      ]
    },
    {
      "cell_type": "markdown",
      "source": [
        "Unsuprisingly, the people with a larger annual income seem to be more likely to buy insurance."
      ],
      "metadata": {
        "id": "qik2PNRzHGi3"
      }
    },
    {
      "cell_type": "markdown",
      "source": [
        "*Considering the customers that have and those that haven't bought travel insurance, does the proportion of customers that are frequent fliers differ substantially between the two groups?*\n",
        "\n",
        "**Null hypothesis**: The proportion of frequent fliers is the same in both groups\n",
        "\n",
        "**Alternative hypothesis**: The proportion of frequent fliers is larger in the group of customers that have bought insurance"
      ],
      "metadata": {
        "id": "A4BqMwATxv7d"
      }
    },
    {
      "cell_type": "code",
      "source": [
        "ins_true = train_set.loc[train_set[\"travel_insurance\"] == 1, \"frequent_flyer\"]\n",
        "ins_false = train_set.loc[train_set[\"travel_insurance\"] == 0, \"frequent_flyer\"]\n",
        "sm.stats.proportions_ztest(count=[ins_false.value_counts()[1], ins_true.value_counts()[1]], nobs=[ins_false.shape[0], ins_true.shape[0]], alternative=\"smaller\")"
      ],
      "metadata": {
        "id": "rNW6H8JT3wJQ",
        "outputId": "7bde5d54-52f6-4c9f-f7a9-afe3a0021ff5",
        "colab": {
          "base_uri": "https://localhost:8080/"
        }
      },
      "execution_count": null,
      "outputs": [
        {
          "output_type": "execute_result",
          "data": {
            "text/plain": [
              "(-9.054538691032716, 6.857312804753349e-20)"
            ]
          },
          "metadata": {},
          "execution_count": 24
        }
      ]
    },
    {
      "cell_type": "markdown",
      "source": [
        "And again the p-value is miniscule and we can accept the alternative hypothesis.\n",
        "\n",
        "Let's plot the data concerning these two hypothesis!"
      ],
      "metadata": {
        "id": "kecW-clQIImC"
      }
    },
    {
      "cell_type": "code",
      "source": [
        "draw_histplot(train_set, \"scaled_annual_income\", [\"Distribution of annual income for customers split by whether they bough insurance\", \"Annual income (millions of rupees)\", \"Count\", \"Bought insurance\", \"Didn't buy insurance\"], hue_param=\"travel_insurance\")"
      ],
      "metadata": {
        "colab": {
          "base_uri": "https://localhost:8080/"
        },
        "id": "dTxbq86Fq7xh",
        "outputId": "2099fb85-1b7a-43f2-d4f0-bb6dfdc17c87"
      },
      "execution_count": null,
      "outputs": [
        {
          "output_type": "display_data",
          "data": {
            "text/plain": [
              "<Figure size 1440x720 with 1 Axes>"
            ],
            "image/png": "[encoded data removed]"
          },
          "metadata": {}
        }
      ]
    },
    {
      "cell_type": "code",
      "source": [
        "train_set = train_set.drop(\"scaled_annual_income\", axis=1)"
      ],
      "metadata": {
        "id": "iQV0lV2PbUuR"
      },
      "execution_count": null,
      "outputs": []
    },
    {
      "cell_type": "markdown",
      "source": [
        "It's quite clear that our alternative for the first hypothesis was true. We can see two quite pronounced oppositely skewed distributions - distribution for customers who bought insurance is left skewed and for those who didn't, right skewed. Annual income is likely to be an important feature for the model."
      ],
      "metadata": {
        "id": "xhIMS1TYIiPD"
      }
    },
    {
      "cell_type": "code",
      "source": [
        "draw_comparison_barplot(train_set, \"travel_insurance\", \"frequent_flyer\", [], [\"Proportions of customers, split by whether they are a frequent flyer and whether they bought insurance\", \"Frequent flyer\", \"Count\", \"Didn't buy insurance\", \"Bought insurance\"], largefig=False)"
      ],
      "metadata": {
        "colab": {
          "base_uri": "https://localhost:8080/"
        },
        "id": "NxStrE8uUsA-",
        "outputId": "078bec7d-dff6-4c3b-baf5-4fd8cdd80df5"
      },
      "execution_count": null,
      "outputs": [
        {
          "output_type": "display_data",
          "data": {
            "text/plain": [
              "<Figure size 720x360 with 1 Axes>"
            ],
            "image/png": "[encoded data removed]"
          },
          "metadata": {}
        }
      ]
    },
    {
      "cell_type": "markdown",
      "source": [
        "As for second hypothesis, even though customers who are frequent fliers are much more likely to get insurance than those who are not, this feature might not be as important due to the small proportion of frequent fliers - there are more non-frequent fliers that bought insurance than frequent fliers altogether.\n",
        "\n",
        "Let's look at some of the other features split by whether customer bought insurance."
      ],
      "metadata": {
        "id": "yizVqeI5J6cC"
      }
    },
    {
      "cell_type": "code",
      "source": [
        "draw_comparison_barplot(train_set, \"travel_insurance\", \"employment_type\", [], [\"Proportions of customers, split by employement type and whether they bought insurance\", \"Employement type\", \"Count\", \"Didn't buy insurance\", \"Bought insurance\"], largefig=False)"
      ],
      "metadata": {
        "colab": {
          "base_uri": "https://localhost:8080/"
        },
        "id": "m1hDKdFTrtP9",
        "outputId": "0e1e80e0-2c71-43cf-da43-686fcf436300"
      },
      "execution_count": null,
      "outputs": [
        {
          "output_type": "display_data",
          "data": {
            "text/plain": [
              "<Figure size 720x360 with 1 Axes>"
            ],
            "image/png": "[encoded data removed]"
          },
          "metadata": {}
        }
      ]
    },
    {
      "cell_type": "markdown",
      "source": [
        "Interesting to notice that government employees seem to be a lot less likely to buy insurance than the private citizens. It could be due to government buying the insurance for the employees and that not being shown here. "
      ],
      "metadata": {
        "id": "aMXYG6u_LRKk"
      }
    },
    {
      "cell_type": "code",
      "source": [
        "draw_comparison_barplot(train_set, \"travel_insurance\", \"family_members\", [5, 6], [\"Proportions of customers, split by family size and whether they bought insurance\", \"Family members\", \"Count\", \"Didn't buy insurance\", \"Bought insurance\"])"
      ],
      "metadata": {
        "id": "ytysisQHZTHJ",
        "colab": {
          "base_uri": "https://localhost:8080/"
        },
        "outputId": "0feafd8c-ac6e-4823-f8c3-626596d665c0"
      },
      "execution_count": null,
      "outputs": [
        {
          "output_type": "display_data",
          "data": {
            "text/plain": [
              "<Figure size 1440x720 with 1 Axes>"
            ],
            "image/png": "[encoded data removed]"
          },
          "metadata": {}
        }
      ]
    },
    {
      "cell_type": "markdown",
      "source": [
        "Contrary to what I expected, people with more family members seem to be more likely to buy insurance than those with less. There seems to be a substantial increase in insurance purchases between 5 and 6 family members."
      ],
      "metadata": {
        "id": "5It1OlVDMaDe"
      }
    },
    {
      "cell_type": "code",
      "source": [
        "draw_comparison_barplot(train_set, \"travel_insurance\", \"age\", [25, 28, 31, 34], [\"Proportions of customers, split by age and whether they bought insurance\", \"Age\", \"Count\", \"Didn't buy insurance\", \"Bought insurance\"])"
      ],
      "metadata": {
        "colab": {
          "base_uri": "https://localhost:8080/"
        },
        "id": "LjSZsPoStoQf",
        "outputId": "c82e9940-c81f-4cd0-97f2-1b908e279a98"
      },
      "execution_count": null,
      "outputs": [
        {
          "output_type": "display_data",
          "data": {
            "text/plain": [
              "<Figure size 1440x720 with 1 Axes>"
            ],
            "image/png": "[encoded data removed]"
          },
          "metadata": {}
        }
      ]
    },
    {
      "cell_type": "markdown",
      "source": [
        "It's hard to discern any clear patterns in this age graph. Seems like people are more likely than not to buy insurance at around ages 25 and 34, but very unlikely in between these ages. This data doesn't really make sense, especially the massive spike in age 28. One possible explanation might be some kind of sampling bias when gathering the data - I have no information of methods used to gather this information and what was the selection process for the people that got offered the insurance deal. Another possibility might be an unfortunate split between test and training data with the split uneven in the age dimension. Whatever the case, we might want to exclude age column when building the models."
      ],
      "metadata": {
        "id": "A5Rj_zkTNDfd"
      }
    },
    {
      "cell_type": "markdown",
      "source": [
        "##Feature engineering\n",
        "\n",
        "I doesn't seem that much feature engineering is needed. There are no missing values, the amount of features is quite small and they seem to be quite unrelated to one another. The only things we'll do are convert the columns containing strings in two categories to binary values, as well as scale the numerical columns. Let's create a pipeline that takes care of these things!"
      ],
      "metadata": {
        "id": "lKB6d7b_v-Gu"
      }
    },
    {
      "cell_type": "code",
      "source": [
        "from sklearn.base import BaseEstimator, TransformerMixin\n",
        "from sklearn.pipeline import Pipeline\n",
        "from sklearn.preprocessing import MinMaxScaler\n",
        "from sklearn.linear_model import LogisticRegression\n",
        "from sklearn.ensemble import RandomForestClassifier\n",
        "from sklearn.svm import SVC\n",
        "from sklearn.tree import DecisionTreeClassifier\n",
        "from sklearn.ensemble import GradientBoostingClassifier\n",
        "from sklearn.neighbors import KNeighborsClassifier\n",
        "from sklearn.model_selection import cross_val_score\n"
      ],
      "metadata": {
        "id": "73hHnzGbxdZo"
      },
      "execution_count": null,
      "outputs": []
    },
    {
      "cell_type": "code",
      "source": [
        "transform_pipeline = Pipeline([\n",
        "        ('to_numeric', CategoryToNumeric()),\n",
        "        ('minmax_scaler', MinMaxScaler()),\n",
        "    ])"
      ],
      "metadata": {
        "id": "dl1-ujbELKFS"
      },
      "execution_count": null,
      "outputs": []
    },
    {
      "cell_type": "markdown",
      "source": [
        "##Model training"
      ],
      "metadata": {
        "id": "lTMRnYAvFxLo"
      }
    },
    {
      "cell_type": "markdown",
      "source": [
        "Let's get to the modelling. \n",
        "\n",
        "While the objective is to correctly predict whether a customer would or would not buy insurance, we are more interested in the customers that do buy the insurance. Also, since, in this case, a false positive (offering a customer insurance that does not result in a purchase) is a less painful error than a false negative (passing on a customer that would have resulted on a sale), we are more interested in recall than precision or accuracy.\n",
        "\n",
        "First, let's go through a few classification algorithms in their default configuration to see approximately how well they fit to the data."
      ],
      "metadata": {
        "id": "Ws4SXEseFPiC"
      }
    },
    {
      "cell_type": "code",
      "source": [
        "models = [[\"svm_rbf\", SVC()], [\"svm_poly\", SVC(kernel=\"poly\")], [\"k-neighbors\", KNeighborsClassifier()], [\"logistic_reg\", LogisticRegression()], [\"decision_tree\", DecisionTreeClassifier()], [\"random_forest\", RandomForestClassifier()],  [\"boosted_model\", GradientBoostingClassifier()]]\n",
        "\n",
        "for model in models:\n",
        "  pipe = Pipeline([\n",
        "          ('transform', transform_pipeline),\n",
        "          (model[0], model[1]),\n",
        "  ])\n",
        "  temp = cross_val_score(pipe, train_set.iloc[:, :-1], train_set.iloc[:, -1], cv=4, scoring=\"recall\")\n",
        "  print(model[0], temp, \" | \", temp.mean())"
      ],
      "metadata": {
        "id": "3kF6isiG5rpb",
        "outputId": "d03687b1-1029-413d-cb20-f3bfe921e116",
        "colab": {
          "base_uri": "https://localhost:8080/"
        }
      },
      "execution_count": null,
      "outputs": [
        {
          "output_type": "stream",
          "name": "stdout",
          "text": [
            "svm_rbf [0.42253521 0.49295775 0.46478873 0.52816901]  |  0.477112676056338\n",
            "svm_poly [0.47183099 0.52112676 0.5        0.58450704]  |  0.5193661971830986\n",
            "k-neighbors [0.54225352 0.62676056 0.54225352 0.58450704]  |  0.573943661971831\n",
            "logistic_reg [0.40140845 0.49295775 0.46478873 0.5       ]  |  0.4647887323943662\n",
            "decision_tree [0.6056338  0.62676056 0.58450704 0.66901408]  |  0.6214788732394365\n",
            "random_forest [0.61267606 0.65492958 0.63380282 0.64084507]  |  0.6355633802816902\n",
            "boosted_model [0.57042254 0.63380282 0.5915493  0.5915493 ]  |  0.596830985915493\n"
          ]
        }
      ]
    },
    {
      "cell_type": "markdown",
      "source": [
        "We can see that the best models for this data seem to be Decision tree and Random forest. K-neighbors and boosted model also seem decent. However, the recall value is not very high for any of them.\n",
        "\n",
        "Let's check how the models work without the sketchy \"age\" column."
      ],
      "metadata": {
        "id": "9hQfVJ25kJ4l"
      }
    },
    {
      "cell_type": "code",
      "source": [
        "for model in models:\n",
        "  pipe = Pipeline([\n",
        "          ('transform', transform_pipeline),\n",
        "          (model[0], model[1]),\n",
        "  ])\n",
        "  temp = cross_val_score(pipe, train_set.iloc[:, 1:-1], train_set.iloc[:, -1], cv=4, scoring=\"recall\")\n",
        "  print(model[0], temp, \" | \", temp.mean())"
      ],
      "metadata": {
        "id": "4r5gip-c3ikc",
        "outputId": "33d1df52-fd3c-4509-bfcb-c49176a28fdd",
        "colab": {
          "base_uri": "https://localhost:8080/"
        }
      },
      "execution_count": null,
      "outputs": [
        {
          "output_type": "stream",
          "name": "stdout",
          "text": [
            "svm_rbf [0.41549296 0.48591549 0.43661972 0.51408451]  |  0.4630281690140845\n",
            "svm_poly [0.41549296 0.48591549 0.46478873 0.50704225]  |  0.46830985915492956\n",
            "k-neighbors [0.52112676 0.52816901 0.52816901 0.54929577]  |  0.5316901408450704\n",
            "logistic_reg [0.43661972 0.49295775 0.47887324 0.51408451]  |  0.4806338028169014\n",
            "decision_tree [0.54225352 0.55633803 0.56338028 0.64084507]  |  0.5757042253521127\n",
            "random_forest [0.6056338  0.57746479 0.56338028 0.61971831]  |  0.5915492957746479\n",
            "boosted_model [0.50704225 0.49295775 0.51408451 0.54225352]  |  0.5140845070422535\n"
          ]
        }
      ]
    },
    {
      "cell_type": "markdown",
      "source": [
        "Interesting thing to notice - Logistic regression actually performs better without the \"age\" column. However for the other models the recall value is lower compared to when using all features.\n",
        "\n",
        "The most promising model seemed to be Random Forest. Let's try tuning it's hyperparameters to see if we can make it even better."
      ],
      "metadata": {
        "id": "nbK18I2-14UA"
      }
    },
    {
      "cell_type": "code",
      "source": [
        "from sklearn.model_selection import GridSearchCV"
      ],
      "metadata": {
        "id": "81aa0yNNRJRO"
      },
      "execution_count": null,
      "outputs": []
    },
    {
      "cell_type": "code",
      "source": [
        "param_grid = [\n",
        "    {\"random_forest__n_estimators\": [200], \"random_forest__criterion\": [\"gini\", \"entropy\"], \"random_forest__max_depth\": [None, 3, 8], 'random_forest__max_features': [0.2, 0.5, None, \"sqrt\"], \"random_forest__min_samples_leaf\": [1, 5, 10, 20], \"random_forest__random_state\": [42]}\n",
        "  ]\n",
        "\n",
        "pipe = Pipeline([\n",
        "        ('transform', transform_pipeline),\n",
        "        (\"random_forest\", RandomForestClassifier()),\n",
        "  ])\n",
        "\n",
        "grid_search = GridSearchCV(pipe, param_grid, cv=5,\n",
        "                           scoring='recall',\n",
        "                           return_train_score=True)\n",
        "\n",
        "grid_search.fit(train_set.iloc[:, :-1], train_set.iloc[:, -1])\n",
        "grid_df = pd.DataFrame(grid_search.cv_results_)\n",
        "grid_search_results_to_df(grid_search.cv_results_, \"random_forest\")"
      ],
      "metadata": {
        "id": "tK_ofmziPGSB",
        "outputId": "a1a96e3b-c3c3-466e-eba7-7f660fef1341",
        "colab": {
          "base_uri": "https://localhost:8080/",
          "height": 363
        }
      },
      "execution_count": null,
      "outputs": [
        {
          "output_type": "execute_result",
          "data": {
            "text/plain": [
              "   mean_test_score  mean_train_score criterion  max_depth max_features  \\\n",
              "0         0.649651          0.841106   entropy        NaN         None   \n",
              "1         0.647896          0.841549      gini        NaN         None   \n",
              "2         0.639124          0.839786   entropy        NaN          0.5   \n",
              "3         0.639109          0.839346      gini        NaN          0.5   \n",
              "4         0.635569          0.841548   entropy        NaN         sqrt   \n",
              "5         0.633830          0.841988      gini        NaN          0.2   \n",
              "6         0.633830          0.838465      gini        NaN         sqrt   \n",
              "7         0.630290          0.839786   entropy        NaN          0.2   \n",
              "8         0.598587          0.630716   entropy        NaN         None   \n",
              "9         0.598572          0.628081   entropy        8.0         sqrt   \n",
              "\n",
              "   min_samples_leaf  n_estimators  random_state  \n",
              "0                 1           200            42  \n",
              "1                 1           200            42  \n",
              "2                 1           200            42  \n",
              "3                 1           200            42  \n",
              "4                 1           200            42  \n",
              "5                 1           200            42  \n",
              "6                 1           200            42  \n",
              "7                 1           200            42  \n",
              "8                 5           200            42  \n",
              "9                 1           200            42  "
            ],
            "text/html": [
              "\n",
              "  <div id=\"df-9bde2c22-7d39-42a6-9168-547114559059\">\n",
              "    <div class=\"colab-df-container\">\n",
              "      <div>\n",
              "<style scoped>\n",
              "    .dataframe tbody tr th:only-of-type {\n",
              "        vertical-align: middle;\n",
              "    }\n",
              "\n",
              "    .dataframe tbody tr th {\n",
              "        vertical-align: top;\n",
              "    }\n",
              "\n",
              "    .dataframe thead th {\n",
              "        text-align: right;\n",
              "    }\n",
              "</style>\n",
              "<table border=\"1\" class=\"dataframe\">\n",
              "  <thead>\n",
              "    <tr style=\"text-align: right;\">\n",
              "      <th></th>\n",
              "      <th>mean_test_score</th>\n",
              "      <th>mean_train_score</th>\n",
              "      <th>criterion</th>\n",
              "      <th>max_depth</th>\n",
              "      <th>max_features</th>\n",
              "      <th>min_samples_leaf</th>\n",
              "      <th>n_estimators</th>\n",
              "      <th>random_state</th>\n",
              "    </tr>\n",
              "  </thead>\n",
              "  <tbody>\n",
              "    <tr>\n",
              "      <th>0</th>\n",
              "      <td>0.649651</td>\n",
              "      <td>0.841106</td>\n",
              "      <td>entropy</td>\n",
              "      <td>NaN</td>\n",
              "      <td>None</td>\n",
              "      <td>1</td>\n",
              "      <td>200</td>\n",
              "      <td>42</td>\n",
              "    </tr>\n",
              "    <tr>\n",
              "      <th>1</th>\n",
              "      <td>0.647896</td>\n",
              "      <td>0.841549</td>\n",
              "      <td>gini</td>\n",
              "      <td>NaN</td>\n",
              "      <td>None</td>\n",
              "      <td>1</td>\n",
              "      <td>200</td>\n",
              "      <td>42</td>\n",
              "    </tr>\n",
              "    <tr>\n",
              "      <th>2</th>\n",
              "      <td>0.639124</td>\n",
              "      <td>0.839786</td>\n",
              "      <td>entropy</td>\n",
              "      <td>NaN</td>\n",
              "      <td>0.5</td>\n",
              "      <td>1</td>\n",
              "      <td>200</td>\n",
              "      <td>42</td>\n",
              "    </tr>\n",
              "    <tr>\n",
              "      <th>3</th>\n",
              "      <td>0.639109</td>\n",
              "      <td>0.839346</td>\n",
              "      <td>gini</td>\n",
              "      <td>NaN</td>\n",
              "      <td>0.5</td>\n",
              "      <td>1</td>\n",
              "      <td>200</td>\n",
              "      <td>42</td>\n",
              "    </tr>\n",
              "    <tr>\n",
              "      <th>4</th>\n",
              "      <td>0.635569</td>\n",
              "      <td>0.841548</td>\n",
              "      <td>entropy</td>\n",
              "      <td>NaN</td>\n",
              "      <td>sqrt</td>\n",
              "      <td>1</td>\n",
              "      <td>200</td>\n",
              "      <td>42</td>\n",
              "    </tr>\n",
              "    <tr>\n",
              "      <th>5</th>\n",
              "      <td>0.633830</td>\n",
              "      <td>0.841988</td>\n",
              "      <td>gini</td>\n",
              "      <td>NaN</td>\n",
              "      <td>0.2</td>\n",
              "      <td>1</td>\n",
              "      <td>200</td>\n",
              "      <td>42</td>\n",
              "    </tr>\n",
              "    <tr>\n",
              "      <th>6</th>\n",
              "      <td>0.633830</td>\n",
              "      <td>0.838465</td>\n",
              "      <td>gini</td>\n",
              "      <td>NaN</td>\n",
              "      <td>sqrt</td>\n",
              "      <td>1</td>\n",
              "      <td>200</td>\n",
              "      <td>42</td>\n",
              "    </tr>\n",
              "    <tr>\n",
              "      <th>7</th>\n",
              "      <td>0.630290</td>\n",
              "      <td>0.839786</td>\n",
              "      <td>entropy</td>\n",
              "      <td>NaN</td>\n",
              "      <td>0.2</td>\n",
              "      <td>1</td>\n",
              "      <td>200</td>\n",
              "      <td>42</td>\n",
              "    </tr>\n",
              "    <tr>\n",
              "      <th>8</th>\n",
              "      <td>0.598587</td>\n",
              "      <td>0.630716</td>\n",
              "      <td>entropy</td>\n",
              "      <td>NaN</td>\n",
              "      <td>None</td>\n",
              "      <td>5</td>\n",
              "      <td>200</td>\n",
              "      <td>42</td>\n",
              "    </tr>\n",
              "    <tr>\n",
              "      <th>9</th>\n",
              "      <td>0.598572</td>\n",
              "      <td>0.628081</td>\n",
              "      <td>entropy</td>\n",
              "      <td>8.0</td>\n",
              "      <td>sqrt</td>\n",
              "      <td>1</td>\n",
              "      <td>200</td>\n",
              "      <td>42</td>\n",
              "    </tr>\n",
              "  </tbody>\n",
              "</table>\n",
              "</div>\n",
              "      <button class=\"colab-df-convert\" onclick=\"convertToInteractive('df-9bde2c22-7d39-42a6-9168-547114559059')\"\n",
              "              title=\"Convert this dataframe to an interactive table.\"\n",
              "              style=\"display:none;\">\n",
              "        \n",
              "  <svg xmlns=\"http://www.w3.org/2000/svg\" height=\"24px\"viewBox=\"0 0 24 24\"\n",
              "       width=\"24px\">\n",
              "    <path d=\"M0 0h24v24H0V0z\" fill=\"none\"/>\n",
              "    <path d=\"M18.56 5.44l.94 2.06.94-2.06 2.06-.94-2.06-.94-.94-2.06-.94 2.06-2.06.94zm-11 1L8.5 8.5l.94-2.06 2.06-.94-2.06-.94L8.5 2.5l-.94 2.06-2.06.94zm10 10l.94 2.06.94-2.06 2.06-.94-2.06-.94-.94-2.06-.94 2.06-2.06.94z\"/><path d=\"M17.41 7.96l-1.37-1.37c-.4-.4-.92-.59-1.43-.59-.52 0-1.04.2-1.43.59L10.3 9.45l-7.72 7.72c-.78.78-.78 2.05 0 2.83L4 21.41c.39.39.9.59 1.41.59.51 0 1.02-.2 1.41-.59l7.78-7.78 2.81-2.81c.8-.78.8-2.07 0-2.86zM5.41 20L4 18.59l7.72-7.72 1.47 1.35L5.41 20z\"/>\n",
              "  </svg>\n",
              "      </button>\n",
              "      \n",
              "  <style>\n",
              "    .colab-df-container {\n",
              "      display:flex;\n",
              "      flex-wrap:wrap;\n",
              "      gap: 12px;\n",
              "    }\n",
              "\n",
              "    .colab-df-convert {\n",
              "      background-color: #E8F0FE;\n",
              "      border: none;\n",
              "      border-radius: 50%;\n",
              "      cursor: pointer;\n",
              "      display: none;\n",
              "      fill: #1967D2;\n",
              "      height: 32px;\n",
              "      padding: 0 0 0 0;\n",
              "      width: 32px;\n",
              "    }\n",
              "\n",
              "    .colab-df-convert:hover {\n",
              "      background-color: #E2EBFA;\n",
              "      box-shadow: 0px 1px 2px rgba(60, 64, 67, 0.3), 0px 1px 3px 1px rgba(60, 64, 67, 0.15);\n",
              "      fill: #174EA6;\n",
              "    }\n",
              "\n",
              "    [theme=dark] .colab-df-convert {\n",
              "      background-color: #3B4455;\n",
              "      fill: #D2E3FC;\n",
              "    }\n",
              "\n",
              "    [theme=dark] .colab-df-convert:hover {\n",
              "      background-color: #434B5C;\n",
              "      box-shadow: 0px 1px 3px 1px rgba(0, 0, 0, 0.15);\n",
              "      filter: drop-shadow(0px 1px 2px rgba(0, 0, 0, 0.3));\n",
              "      fill: #FFFFFF;\n",
              "    }\n",
              "  </style>\n",
              "\n",
              "      <script>\n",
              "        const buttonEl =\n",
              "          document.querySelector('#df-9bde2c22-7d39-42a6-9168-547114559059 button.colab-df-convert');\n",
              "        buttonEl.style.display =\n",
              "          google.colab.kernel.accessAllowed ? 'block' : 'none';\n",
              "\n",
              "        async function convertToInteractive(key) {\n",
              "          const element = document.querySelector('#df-9bde2c22-7d39-42a6-9168-547114559059');\n",
              "          const dataTable =\n",
              "            await google.colab.kernel.invokeFunction('convertToInteractive',\n",
              "                                                     [key], {});\n",
              "          if (!dataTable) return;\n",
              "\n",
              "          const docLinkHtml = 'Like what you see? Visit the ' +\n",
              "            '<a target=\"_blank\" href=https://colab.research.google.com/notebooks/data_table.ipynb>data table notebook</a>'\n",
              "            + ' to learn more about interactive tables.';\n",
              "          element.innerHTML = '';\n",
              "          dataTable['output_type'] = 'display_data';\n",
              "          await google.colab.output.renderOutput(dataTable, element);\n",
              "          const docLink = document.createElement('div');\n",
              "          docLink.innerHTML = docLinkHtml;\n",
              "          element.appendChild(docLink);\n",
              "        }\n",
              "      </script>\n",
              "    </div>\n",
              "  </div>\n",
              "  "
            ]
          },
          "metadata": {},
          "execution_count": 36
        }
      ]
    },
    {
      "cell_type": "markdown",
      "source": [
        "We've displayed only the top 10 results. \n",
        "\n",
        "We can see that with \"min_samples_leaf\" as 1 the difference between the test and train scores is quite vast, thus indicating overfitting. However the test score is also highest with that value, so maybe it also allows for the underlying patterns to be clearer. \n",
        "\n",
        "Now that we've got a rough estimate for the best values for numerical parameters, let's try to tune them a bit more by looking at the numerical values around the best estimates we got."
      ],
      "metadata": {
        "id": "pSoNwV-t_TwD"
      }
    },
    {
      "cell_type": "code",
      "source": [
        "param_grid = [\n",
        "    {\"random_forest__n_estimators\": [200], \"random_forest__criterion\": [\"gini\", \"entropy\"], \"random_forest__max_depth\": [None, 9, 10], 'random_forest__max_features': [0.2, 0.5, 0.8, None, \"sqrt\"], \"random_forest__min_samples_leaf\": [1, 2, 3], \"random_forest__random_state\": [42]}\n",
        "  ]\n",
        "\n",
        "grid_search = GridSearchCV(pipe, param_grid, cv=5,\n",
        "                           scoring='recall',\n",
        "                           return_train_score=True)\n",
        "\n",
        "grid_search.fit(train_set.iloc[:, :-1], train_set.iloc[:, -1])\n",
        "grid_search_results_to_df(grid_search.cv_results_, \"random_forest\")"
      ],
      "metadata": {
        "id": "MOK8qv7yqObZ",
        "outputId": "c3bc280b-b04f-4e9d-e449-6810d91685ce",
        "colab": {
          "base_uri": "https://localhost:8080/",
          "height": 363
        }
      },
      "execution_count": null,
      "outputs": [
        {
          "output_type": "execute_result",
          "data": {
            "text/plain": [
              "   mean_test_score  mean_train_score criterion max_depth max_features  \\\n",
              "0         0.649651          0.841106   entropy      None         None   \n",
              "1         0.647896          0.841549      gini      None         None   \n",
              "2         0.646142          0.842866   entropy      None          0.8   \n",
              "3         0.642618          0.841546      gini      None          0.8   \n",
              "4         0.639124          0.839786   entropy      None          0.5   \n",
              "5         0.639109          0.839346      gini      None          0.5   \n",
              "6         0.635569          0.841548   entropy      None         sqrt   \n",
              "7         0.635507          0.735478      gini      None         None   \n",
              "8         0.635491          0.741197   entropy      None         None   \n",
              "9         0.633830          0.841988      gini      None          0.2   \n",
              "\n",
              "   min_samples_leaf  n_estimators  random_state  \n",
              "0                 1           200            42  \n",
              "1                 1           200            42  \n",
              "2                 1           200            42  \n",
              "3                 1           200            42  \n",
              "4                 1           200            42  \n",
              "5                 1           200            42  \n",
              "6                 1           200            42  \n",
              "7                 2           200            42  \n",
              "8                 2           200            42  \n",
              "9                 1           200            42  "
            ],
            "text/html": [
              "\n",
              "  <div id=\"df-7f68c195-0b8b-41a6-8e2e-f2c8e97256e5\">\n",
              "    <div class=\"colab-df-container\">\n",
              "      <div>\n",
              "<style scoped>\n",
              "    .dataframe tbody tr th:only-of-type {\n",
              "        vertical-align: middle;\n",
              "    }\n",
              "\n",
              "    .dataframe tbody tr th {\n",
              "        vertical-align: top;\n",
              "    }\n",
              "\n",
              "    .dataframe thead th {\n",
              "        text-align: right;\n",
              "    }\n",
              "</style>\n",
              "<table border=\"1\" class=\"dataframe\">\n",
              "  <thead>\n",
              "    <tr style=\"text-align: right;\">\n",
              "      <th></th>\n",
              "      <th>mean_test_score</th>\n",
              "      <th>mean_train_score</th>\n",
              "      <th>criterion</th>\n",
              "      <th>max_depth</th>\n",
              "      <th>max_features</th>\n",
              "      <th>min_samples_leaf</th>\n",
              "      <th>n_estimators</th>\n",
              "      <th>random_state</th>\n",
              "    </tr>\n",
              "  </thead>\n",
              "  <tbody>\n",
              "    <tr>\n",
              "      <th>0</th>\n",
              "      <td>0.649651</td>\n",
              "      <td>0.841106</td>\n",
              "      <td>entropy</td>\n",
              "      <td>None</td>\n",
              "      <td>None</td>\n",
              "      <td>1</td>\n",
              "      <td>200</td>\n",
              "      <td>42</td>\n",
              "    </tr>\n",
              "    <tr>\n",
              "      <th>1</th>\n",
              "      <td>0.647896</td>\n",
              "      <td>0.841549</td>\n",
              "      <td>gini</td>\n",
              "      <td>None</td>\n",
              "      <td>None</td>\n",
              "      <td>1</td>\n",
              "      <td>200</td>\n",
              "      <td>42</td>\n",
              "    </tr>\n",
              "    <tr>\n",
              "      <th>2</th>\n",
              "      <td>0.646142</td>\n",
              "      <td>0.842866</td>\n",
              "      <td>entropy</td>\n",
              "      <td>None</td>\n",
              "      <td>0.8</td>\n",
              "      <td>1</td>\n",
              "      <td>200</td>\n",
              "      <td>42</td>\n",
              "    </tr>\n",
              "    <tr>\n",
              "      <th>3</th>\n",
              "      <td>0.642618</td>\n",
              "      <td>0.841546</td>\n",
              "      <td>gini</td>\n",
              "      <td>None</td>\n",
              "      <td>0.8</td>\n",
              "      <td>1</td>\n",
              "      <td>200</td>\n",
              "      <td>42</td>\n",
              "    </tr>\n",
              "    <tr>\n",
              "      <th>4</th>\n",
              "      <td>0.639124</td>\n",
              "      <td>0.839786</td>\n",
              "      <td>entropy</td>\n",
              "      <td>None</td>\n",
              "      <td>0.5</td>\n",
              "      <td>1</td>\n",
              "      <td>200</td>\n",
              "      <td>42</td>\n",
              "    </tr>\n",
              "    <tr>\n",
              "      <th>5</th>\n",
              "      <td>0.639109</td>\n",
              "      <td>0.839346</td>\n",
              "      <td>gini</td>\n",
              "      <td>None</td>\n",
              "      <td>0.5</td>\n",
              "      <td>1</td>\n",
              "      <td>200</td>\n",
              "      <td>42</td>\n",
              "    </tr>\n",
              "    <tr>\n",
              "      <th>6</th>\n",
              "      <td>0.635569</td>\n",
              "      <td>0.841548</td>\n",
              "      <td>entropy</td>\n",
              "      <td>None</td>\n",
              "      <td>sqrt</td>\n",
              "      <td>1</td>\n",
              "      <td>200</td>\n",
              "      <td>42</td>\n",
              "    </tr>\n",
              "    <tr>\n",
              "      <th>7</th>\n",
              "      <td>0.635507</td>\n",
              "      <td>0.735478</td>\n",
              "      <td>gini</td>\n",
              "      <td>None</td>\n",
              "      <td>None</td>\n",
              "      <td>2</td>\n",
              "      <td>200</td>\n",
              "      <td>42</td>\n",
              "    </tr>\n",
              "    <tr>\n",
              "      <th>8</th>\n",
              "      <td>0.635491</td>\n",
              "      <td>0.741197</td>\n",
              "      <td>entropy</td>\n",
              "      <td>None</td>\n",
              "      <td>None</td>\n",
              "      <td>2</td>\n",
              "      <td>200</td>\n",
              "      <td>42</td>\n",
              "    </tr>\n",
              "    <tr>\n",
              "      <th>9</th>\n",
              "      <td>0.633830</td>\n",
              "      <td>0.841988</td>\n",
              "      <td>gini</td>\n",
              "      <td>None</td>\n",
              "      <td>0.2</td>\n",
              "      <td>1</td>\n",
              "      <td>200</td>\n",
              "      <td>42</td>\n",
              "    </tr>\n",
              "  </tbody>\n",
              "</table>\n",
              "</div>\n",
              "      <button class=\"colab-df-convert\" onclick=\"convertToInteractive('df-7f68c195-0b8b-41a6-8e2e-f2c8e97256e5')\"\n",
              "              title=\"Convert this dataframe to an interactive table.\"\n",
              "              style=\"display:none;\">\n",
              "        \n",
              "  <svg xmlns=\"http://www.w3.org/2000/svg\" height=\"24px\"viewBox=\"0 0 24 24\"\n",
              "       width=\"24px\">\n",
              "    <path d=\"M0 0h24v24H0V0z\" fill=\"none\"/>\n",
              "    <path d=\"M18.56 5.44l.94 2.06.94-2.06 2.06-.94-2.06-.94-.94-2.06-.94 2.06-2.06.94zm-11 1L8.5 8.5l.94-2.06 2.06-.94-2.06-.94L8.5 2.5l-.94 2.06-2.06.94zm10 10l.94 2.06.94-2.06 2.06-.94-2.06-.94-.94-2.06-.94 2.06-2.06.94z\"/><path d=\"M17.41 7.96l-1.37-1.37c-.4-.4-.92-.59-1.43-.59-.52 0-1.04.2-1.43.59L10.3 9.45l-7.72 7.72c-.78.78-.78 2.05 0 2.83L4 21.41c.39.39.9.59 1.41.59.51 0 1.02-.2 1.41-.59l7.78-7.78 2.81-2.81c.8-.78.8-2.07 0-2.86zM5.41 20L4 18.59l7.72-7.72 1.47 1.35L5.41 20z\"/>\n",
              "  </svg>\n",
              "      </button>\n",
              "      \n",
              "  <style>\n",
              "    .colab-df-container {\n",
              "      display:flex;\n",
              "      flex-wrap:wrap;\n",
              "      gap: 12px;\n",
              "    }\n",
              "\n",
              "    .colab-df-convert {\n",
              "      background-color: #E8F0FE;\n",
              "      border: none;\n",
              "      border-radius: 50%;\n",
              "      cursor: pointer;\n",
              "      display: none;\n",
              "      fill: #1967D2;\n",
              "      height: 32px;\n",
              "      padding: 0 0 0 0;\n",
              "      width: 32px;\n",
              "    }\n",
              "\n",
              "    .colab-df-convert:hover {\n",
              "      background-color: #E2EBFA;\n",
              "      box-shadow: 0px 1px 2px rgba(60, 64, 67, 0.3), 0px 1px 3px 1px rgba(60, 64, 67, 0.15);\n",
              "      fill: #174EA6;\n",
              "    }\n",
              "\n",
              "    [theme=dark] .colab-df-convert {\n",
              "      background-color: #3B4455;\n",
              "      fill: #D2E3FC;\n",
              "    }\n",
              "\n",
              "    [theme=dark] .colab-df-convert:hover {\n",
              "      background-color: #434B5C;\n",
              "      box-shadow: 0px 1px 3px 1px rgba(0, 0, 0, 0.15);\n",
              "      filter: drop-shadow(0px 1px 2px rgba(0, 0, 0, 0.3));\n",
              "      fill: #FFFFFF;\n",
              "    }\n",
              "  </style>\n",
              "\n",
              "      <script>\n",
              "        const buttonEl =\n",
              "          document.querySelector('#df-7f68c195-0b8b-41a6-8e2e-f2c8e97256e5 button.colab-df-convert');\n",
              "        buttonEl.style.display =\n",
              "          google.colab.kernel.accessAllowed ? 'block' : 'none';\n",
              "\n",
              "        async function convertToInteractive(key) {\n",
              "          const element = document.querySelector('#df-7f68c195-0b8b-41a6-8e2e-f2c8e97256e5');\n",
              "          const dataTable =\n",
              "            await google.colab.kernel.invokeFunction('convertToInteractive',\n",
              "                                                     [key], {});\n",
              "          if (!dataTable) return;\n",
              "\n",
              "          const docLinkHtml = 'Like what you see? Visit the ' +\n",
              "            '<a target=\"_blank\" href=https://colab.research.google.com/notebooks/data_table.ipynb>data table notebook</a>'\n",
              "            + ' to learn more about interactive tables.';\n",
              "          element.innerHTML = '';\n",
              "          dataTable['output_type'] = 'display_data';\n",
              "          await google.colab.output.renderOutput(dataTable, element);\n",
              "          const docLink = document.createElement('div');\n",
              "          docLink.innerHTML = docLinkHtml;\n",
              "          element.appendChild(docLink);\n",
              "        }\n",
              "      </script>\n",
              "    </div>\n",
              "  </div>\n",
              "  "
            ]
          },
          "metadata": {},
          "execution_count": 37
        }
      ]
    },
    {
      "cell_type": "markdown",
      "source": [
        "Seems like we did not manage to find any better values than we got previously. Let's see what the accuracy looks like for the best model!"
      ],
      "metadata": {
        "id": "Q3z5V3zBNkqu"
      }
    },
    {
      "cell_type": "code",
      "source": [
        "pipe = Pipeline([\n",
        "        ('transform', transform_pipeline),\n",
        "        (\"random_forest\", RandomForestClassifier(criterion=\"entropy\", max_depth=None, max_features=None, min_samples_leaf=1, n_estimators=200))\n",
        "  ])\n",
        "temp = cross_val_score(pipe, train_set.iloc[:, :-1], train_set.iloc[:, -1], cv=4, scoring=\"accuracy\")\n",
        "print(\"random_forest\", temp, \" | \", temp.mean())"
      ],
      "metadata": {
        "id": "zkBXiydYRMx7",
        "colab": {
          "base_uri": "https://localhost:8080/"
        },
        "outputId": "b471ce87-b475-4684-b114-26da1a141a3f"
      },
      "execution_count": null,
      "outputs": [
        {
          "output_type": "stream",
          "name": "stdout",
          "text": [
            "random_forest [0.77889447 0.7884131  0.80100756 0.78085642]  |  0.7872928876118628\n"
          ]
        }
      ]
    },
    {
      "cell_type": "markdown",
      "source": [
        "So the current best model has 0.64 recall and 0.79 accuracy - while a long shot from perfect score, it's a lot better than the default 50/50 chance.\n",
        "\n",
        "Since our target column is unevenly split, we should try adding weights. Let's see if a better model can be found."
      ],
      "metadata": {
        "id": "6VR1dHJ4RzMT"
      }
    },
    {
      "cell_type": "code",
      "source": [
        "pipe = Pipeline([\n",
        "        ('transform', transform_pipeline),\n",
        "        (\"random_forest\", RandomForestClassifier(criterion=\"entropy\", max_depth=None, max_features=None, min_samples_leaf=1, n_estimators=200, class_weight=\"balanced\"))\n",
        "  ])\n",
        "temp = cross_val_score(pipe, train_set.iloc[:, :-1], train_set.iloc[:, -1], cv=4, scoring=\"recall\")\n",
        "print(\"random_forest\", temp, \" | \", temp.mean())"
      ],
      "metadata": {
        "colab": {
          "base_uri": "https://localhost:8080/"
        },
        "id": "PWkrQlWSn-fx",
        "outputId": "0b728a20-346f-4e1c-ae68-c61f456f416b"
      },
      "execution_count": null,
      "outputs": [
        {
          "output_type": "stream",
          "name": "stdout",
          "text": [
            "random_forest [0.61971831 0.66901408 0.64084507 0.66197183]  |  0.647887323943662\n"
          ]
        }
      ]
    },
    {
      "cell_type": "code",
      "source": [
        "pipe = Pipeline([\n",
        "        ('transform', transform_pipeline),\n",
        "        (\"random_forest\", RandomForestClassifier(criterion=\"entropy\", max_depth=None, max_features=None, min_samples_leaf=1, n_estimators=200, class_weight=\"balanced\"))\n",
        "  ])\n",
        "temp = cross_val_score(pipe, train_set.iloc[:, :-1], train_set.iloc[:, -1], cv=4, scoring=\"accuracy\")\n",
        "print(\"random_forest\", temp, \" | \", temp.mean())"
      ],
      "metadata": {
        "colab": {
          "base_uri": "https://localhost:8080/"
        },
        "id": "SvoEgVdBlxYS",
        "outputId": "fec0afd4-6e22-41f5-85b7-dc28090ea618"
      },
      "execution_count": null,
      "outputs": [
        {
          "output_type": "stream",
          "name": "stdout",
          "text": [
            "random_forest [0.77135678 0.77078086 0.78589421 0.7581864 ]  |  0.7715545612191942\n"
          ]
        }
      ]
    },
    {
      "cell_type": "markdown",
      "source": [
        "We can see, that the recall score is slightly better than without the weights - with a small cost on accuracy. \n",
        "\n",
        "Let's try tuning the hyperparameters for some of the other promising algorithms to see whether we can get a better recall value with any of those."
      ],
      "metadata": {
        "id": "f_1RitXPm5eY"
      }
    },
    {
      "cell_type": "code",
      "source": [
        "param_grid = [\n",
        "    {\"decision_tree__criterion\": [\"gini\", \"entropy\"], \"decision_tree__max_depth\": [None, 3, 8], \"decision_tree__max_features\": [0.2, 0.5, 0.8, None, \"sqrt\"], \"decision_tree__min_samples_leaf\": [1, 5, 10, 20], \"decision_tree__class_weight\": [\"balanced\", None], \"decision_tree__random_state\": [42]}\n",
        "  ]\n",
        "\n",
        "pipe = Pipeline([\n",
        "      ('transform', transform_pipeline),\n",
        "      (\"decision_tree\", DecisionTreeClassifier()),\n",
        "])\n",
        "\n",
        "grid_search = GridSearchCV(pipe, param_grid, cv=5,\n",
        "                           scoring='recall',\n",
        "                           return_train_score=True)\n",
        "\n",
        "grid_search.fit(train_set.iloc[:, :-1], train_set.iloc[:, -1])\n",
        "grid_search_results_to_df(grid_search.cv_results_, \"decision_tree\")"
      ],
      "metadata": {
        "id": "3XrR8oDScTrp",
        "colab": {
          "base_uri": "https://localhost:8080/",
          "height": 363
        },
        "outputId": "ab48bbda-374b-410a-cf08-69e3f213f9d7"
      },
      "execution_count": null,
      "outputs": [
        {
          "output_type": "execute_result",
          "data": {
            "text/plain": [
              "   mean_test_score  mean_train_score class_weight criterion  max_depth  \\\n",
              "0         0.704192          0.817344     balanced      gini        NaN   \n",
              "1         0.698944          0.827026     balanced   entropy        NaN   \n",
              "2         0.697081          0.807222     balanced      gini        NaN   \n",
              "3         0.691818          0.753519     balanced   entropy        NaN   \n",
              "4         0.688278          0.753949     balanced   entropy        NaN   \n",
              "5         0.686648          0.805008     balanced   entropy        NaN   \n",
              "6         0.684785          0.746919     balanced      gini        NaN   \n",
              "7         0.683139          0.786537     balanced   entropy        NaN   \n",
              "8         0.679475          0.740741     balanced      gini        NaN   \n",
              "9         0.677612          0.684897     balanced      gini        3.0   \n",
              "\n",
              "   max_features  min_samples_leaf  random_state  \n",
              "0           NaN                 5            42  \n",
              "1           NaN                 5            42  \n",
              "2           0.8                 5            42  \n",
              "3           NaN                10            42  \n",
              "4           0.8                10            42  \n",
              "5           0.8                 5            42  \n",
              "6           NaN                10            42  \n",
              "7           0.5                 5            42  \n",
              "8           0.8                10            42  \n",
              "9           0.2                 5            42  "
            ],
            "text/html": [
              "\n",
              "  <div id=\"df-67a6101c-e4d8-4c03-9397-3921db2d2292\">\n",
              "    <div class=\"colab-df-container\">\n",
              "      <div>\n",
              "<style scoped>\n",
              "    .dataframe tbody tr th:only-of-type {\n",
              "        vertical-align: middle;\n",
              "    }\n",
              "\n",
              "    .dataframe tbody tr th {\n",
              "        vertical-align: top;\n",
              "    }\n",
              "\n",
              "    .dataframe thead th {\n",
              "        text-align: right;\n",
              "    }\n",
              "</style>\n",
              "<table border=\"1\" class=\"dataframe\">\n",
              "  <thead>\n",
              "    <tr style=\"text-align: right;\">\n",
              "      <th></th>\n",
              "      <th>mean_test_score</th>\n",
              "      <th>mean_train_score</th>\n",
              "      <th>class_weight</th>\n",
              "      <th>criterion</th>\n",
              "      <th>max_depth</th>\n",
              "      <th>max_features</th>\n",
              "      <th>min_samples_leaf</th>\n",
              "      <th>random_state</th>\n",
              "    </tr>\n",
              "  </thead>\n",
              "  <tbody>\n",
              "    <tr>\n",
              "      <th>0</th>\n",
              "      <td>0.704192</td>\n",
              "      <td>0.817344</td>\n",
              "      <td>balanced</td>\n",
              "      <td>gini</td>\n",
              "      <td>NaN</td>\n",
              "      <td>NaN</td>\n",
              "      <td>5</td>\n",
              "      <td>42</td>\n",
              "    </tr>\n",
              "    <tr>\n",
              "      <th>1</th>\n",
              "      <td>0.698944</td>\n",
              "      <td>0.827026</td>\n",
              "      <td>balanced</td>\n",
              "      <td>entropy</td>\n",
              "      <td>NaN</td>\n",
              "      <td>NaN</td>\n",
              "      <td>5</td>\n",
              "      <td>42</td>\n",
              "    </tr>\n",
              "    <tr>\n",
              "      <th>2</th>\n",
              "      <td>0.697081</td>\n",
              "      <td>0.807222</td>\n",
              "      <td>balanced</td>\n",
              "      <td>gini</td>\n",
              "      <td>NaN</td>\n",
              "      <td>0.8</td>\n",
              "      <td>5</td>\n",
              "      <td>42</td>\n",
              "    </tr>\n",
              "    <tr>\n",
              "      <th>3</th>\n",
              "      <td>0.691818</td>\n",
              "      <td>0.753519</td>\n",
              "      <td>balanced</td>\n",
              "      <td>entropy</td>\n",
              "      <td>NaN</td>\n",
              "      <td>NaN</td>\n",
              "      <td>10</td>\n",
              "      <td>42</td>\n",
              "    </tr>\n",
              "    <tr>\n",
              "      <th>4</th>\n",
              "      <td>0.688278</td>\n",
              "      <td>0.753949</td>\n",
              "      <td>balanced</td>\n",
              "      <td>entropy</td>\n",
              "      <td>NaN</td>\n",
              "      <td>0.8</td>\n",
              "      <td>10</td>\n",
              "      <td>42</td>\n",
              "    </tr>\n",
              "    <tr>\n",
              "      <th>5</th>\n",
              "      <td>0.686648</td>\n",
              "      <td>0.805008</td>\n",
              "      <td>balanced</td>\n",
              "      <td>entropy</td>\n",
              "      <td>NaN</td>\n",
              "      <td>0.8</td>\n",
              "      <td>5</td>\n",
              "      <td>42</td>\n",
              "    </tr>\n",
              "    <tr>\n",
              "      <th>6</th>\n",
              "      <td>0.684785</td>\n",
              "      <td>0.746919</td>\n",
              "      <td>balanced</td>\n",
              "      <td>gini</td>\n",
              "      <td>NaN</td>\n",
              "      <td>NaN</td>\n",
              "      <td>10</td>\n",
              "      <td>42</td>\n",
              "    </tr>\n",
              "    <tr>\n",
              "      <th>7</th>\n",
              "      <td>0.683139</td>\n",
              "      <td>0.786537</td>\n",
              "      <td>balanced</td>\n",
              "      <td>entropy</td>\n",
              "      <td>NaN</td>\n",
              "      <td>0.5</td>\n",
              "      <td>5</td>\n",
              "      <td>42</td>\n",
              "    </tr>\n",
              "    <tr>\n",
              "      <th>8</th>\n",
              "      <td>0.679475</td>\n",
              "      <td>0.740741</td>\n",
              "      <td>balanced</td>\n",
              "      <td>gini</td>\n",
              "      <td>NaN</td>\n",
              "      <td>0.8</td>\n",
              "      <td>10</td>\n",
              "      <td>42</td>\n",
              "    </tr>\n",
              "    <tr>\n",
              "      <th>9</th>\n",
              "      <td>0.677612</td>\n",
              "      <td>0.684897</td>\n",
              "      <td>balanced</td>\n",
              "      <td>gini</td>\n",
              "      <td>3.0</td>\n",
              "      <td>0.2</td>\n",
              "      <td>5</td>\n",
              "      <td>42</td>\n",
              "    </tr>\n",
              "  </tbody>\n",
              "</table>\n",
              "</div>\n",
              "      <button class=\"colab-df-convert\" onclick=\"convertToInteractive('df-67a6101c-e4d8-4c03-9397-3921db2d2292')\"\n",
              "              title=\"Convert this dataframe to an interactive table.\"\n",
              "              style=\"display:none;\">\n",
              "        \n",
              "  <svg xmlns=\"http://www.w3.org/2000/svg\" height=\"24px\"viewBox=\"0 0 24 24\"\n",
              "       width=\"24px\">\n",
              "    <path d=\"M0 0h24v24H0V0z\" fill=\"none\"/>\n",
              "    <path d=\"M18.56 5.44l.94 2.06.94-2.06 2.06-.94-2.06-.94-.94-2.06-.94 2.06-2.06.94zm-11 1L8.5 8.5l.94-2.06 2.06-.94-2.06-.94L8.5 2.5l-.94 2.06-2.06.94zm10 10l.94 2.06.94-2.06 2.06-.94-2.06-.94-.94-2.06-.94 2.06-2.06.94z\"/><path d=\"M17.41 7.96l-1.37-1.37c-.4-.4-.92-.59-1.43-.59-.52 0-1.04.2-1.43.59L10.3 9.45l-7.72 7.72c-.78.78-.78 2.05 0 2.83L4 21.41c.39.39.9.59 1.41.59.51 0 1.02-.2 1.41-.59l7.78-7.78 2.81-2.81c.8-.78.8-2.07 0-2.86zM5.41 20L4 18.59l7.72-7.72 1.47 1.35L5.41 20z\"/>\n",
              "  </svg>\n",
              "      </button>\n",
              "      \n",
              "  <style>\n",
              "    .colab-df-container {\n",
              "      display:flex;\n",
              "      flex-wrap:wrap;\n",
              "      gap: 12px;\n",
              "    }\n",
              "\n",
              "    .colab-df-convert {\n",
              "      background-color: #E8F0FE;\n",
              "      border: none;\n",
              "      border-radius: 50%;\n",
              "      cursor: pointer;\n",
              "      display: none;\n",
              "      fill: #1967D2;\n",
              "      height: 32px;\n",
              "      padding: 0 0 0 0;\n",
              "      width: 32px;\n",
              "    }\n",
              "\n",
              "    .colab-df-convert:hover {\n",
              "      background-color: #E2EBFA;\n",
              "      box-shadow: 0px 1px 2px rgba(60, 64, 67, 0.3), 0px 1px 3px 1px rgba(60, 64, 67, 0.15);\n",
              "      fill: #174EA6;\n",
              "    }\n",
              "\n",
              "    [theme=dark] .colab-df-convert {\n",
              "      background-color: #3B4455;\n",
              "      fill: #D2E3FC;\n",
              "    }\n",
              "\n",
              "    [theme=dark] .colab-df-convert:hover {\n",
              "      background-color: #434B5C;\n",
              "      box-shadow: 0px 1px 3px 1px rgba(0, 0, 0, 0.15);\n",
              "      filter: drop-shadow(0px 1px 2px rgba(0, 0, 0, 0.3));\n",
              "      fill: #FFFFFF;\n",
              "    }\n",
              "  </style>\n",
              "\n",
              "      <script>\n",
              "        const buttonEl =\n",
              "          document.querySelector('#df-67a6101c-e4d8-4c03-9397-3921db2d2292 button.colab-df-convert');\n",
              "        buttonEl.style.display =\n",
              "          google.colab.kernel.accessAllowed ? 'block' : 'none';\n",
              "\n",
              "        async function convertToInteractive(key) {\n",
              "          const element = document.querySelector('#df-67a6101c-e4d8-4c03-9397-3921db2d2292');\n",
              "          const dataTable =\n",
              "            await google.colab.kernel.invokeFunction('convertToInteractive',\n",
              "                                                     [key], {});\n",
              "          if (!dataTable) return;\n",
              "\n",
              "          const docLinkHtml = 'Like what you see? Visit the ' +\n",
              "            '<a target=\"_blank\" href=https://colab.research.google.com/notebooks/data_table.ipynb>data table notebook</a>'\n",
              "            + ' to learn more about interactive tables.';\n",
              "          element.innerHTML = '';\n",
              "          dataTable['output_type'] = 'display_data';\n",
              "          await google.colab.output.renderOutput(dataTable, element);\n",
              "          const docLink = document.createElement('div');\n",
              "          docLink.innerHTML = docLinkHtml;\n",
              "          element.appendChild(docLink);\n",
              "        }\n",
              "      </script>\n",
              "    </div>\n",
              "  </div>\n",
              "  "
            ]
          },
          "metadata": {},
          "execution_count": 41
        }
      ]
    },
    {
      "cell_type": "code",
      "source": [
        "param_grid = [\n",
        "    {\"decision_tree__criterion\": [\"gini\", \"entropy\"], \"decision_tree__max_features\": [0.2, 0.5, 0.8, None, \"sqrt\"], \"decision_tree__min_samples_leaf\": [3, 4, 5, 6, 8, 9, 10, 11, 12], \"decision_tree__class_weight\": [\"balanced\"], \"decision_tree__random_state\": [42]}\n",
        "  ]\n",
        "\n",
        "pipe = Pipeline([\n",
        "      ('transform', transform_pipeline),\n",
        "      (\"decision_tree\", DecisionTreeClassifier()),\n",
        "])\n",
        "\n",
        "grid_search = GridSearchCV(pipe, param_grid, cv=5,\n",
        "                           scoring='recall',\n",
        "                           return_train_score=True)\n",
        "\n",
        "grid_search.fit(train_set.iloc[:, :-1], train_set.iloc[:, -1])\n",
        "grid_search_results_to_df(grid_search.cv_results_, \"decision_tree\")"
      ],
      "metadata": {
        "colab": {
          "base_uri": "https://localhost:8080/",
          "height": 363
        },
        "id": "rc4dlciUvrbM",
        "outputId": "4f616e49-6a22-4d0a-88e8-833f91ec616e"
      },
      "execution_count": null,
      "outputs": [
        {
          "output_type": "execute_result",
          "data": {
            "text/plain": [
              "   mean_test_score  mean_train_score class_weight criterion  max_features  \\\n",
              "0         0.707747          0.830551     balanced      gini           NaN   \n",
              "1         0.705946          0.829239     balanced      gini           NaN   \n",
              "2         0.704192          0.817344     balanced      gini           NaN   \n",
              "3         0.700730          0.835828     balanced   entropy           NaN   \n",
              "4         0.698944          0.827026     balanced   entropy           NaN   \n",
              "5         0.697128          0.813397     balanced      gini           0.8   \n",
              "6         0.697081          0.807222     balanced      gini           0.8   \n",
              "7         0.695435          0.814273     balanced   entropy           0.8   \n",
              "8         0.693650          0.790488     balanced   entropy           0.8   \n",
              "9         0.691818          0.753519     balanced   entropy           NaN   \n",
              "\n",
              "   min_samples_leaf  random_state  \n",
              "0                 4            42  \n",
              "1                 3            42  \n",
              "2                 5            42  \n",
              "3                 4            42  \n",
              "4                 5            42  \n",
              "5                 4            42  \n",
              "6                 5            42  \n",
              "7                 4            42  \n",
              "8                 6            42  \n",
              "9                10            42  "
            ],
            "text/html": [
              "\n",
              "  <div id=\"df-9fd18164-b84b-43ff-ab90-6042982b5889\">\n",
              "    <div class=\"colab-df-container\">\n",
              "      <div>\n",
              "<style scoped>\n",
              "    .dataframe tbody tr th:only-of-type {\n",
              "        vertical-align: middle;\n",
              "    }\n",
              "\n",
              "    .dataframe tbody tr th {\n",
              "        vertical-align: top;\n",
              "    }\n",
              "\n",
              "    .dataframe thead th {\n",
              "        text-align: right;\n",
              "    }\n",
              "</style>\n",
              "<table border=\"1\" class=\"dataframe\">\n",
              "  <thead>\n",
              "    <tr style=\"text-align: right;\">\n",
              "      <th></th>\n",
              "      <th>mean_test_score</th>\n",
              "      <th>mean_train_score</th>\n",
              "      <th>class_weight</th>\n",
              "      <th>criterion</th>\n",
              "      <th>max_features</th>\n",
              "      <th>min_samples_leaf</th>\n",
              "      <th>random_state</th>\n",
              "    </tr>\n",
              "  </thead>\n",
              "  <tbody>\n",
              "    <tr>\n",
              "      <th>0</th>\n",
              "      <td>0.707747</td>\n",
              "      <td>0.830551</td>\n",
              "      <td>balanced</td>\n",
              "      <td>gini</td>\n",
              "      <td>NaN</td>\n",
              "      <td>4</td>\n",
              "      <td>42</td>\n",
              "    </tr>\n",
              "    <tr>\n",
              "      <th>1</th>\n",
              "      <td>0.705946</td>\n",
              "      <td>0.829239</td>\n",
              "      <td>balanced</td>\n",
              "      <td>gini</td>\n",
              "      <td>NaN</td>\n",
              "      <td>3</td>\n",
              "      <td>42</td>\n",
              "    </tr>\n",
              "    <tr>\n",
              "      <th>2</th>\n",
              "      <td>0.704192</td>\n",
              "      <td>0.817344</td>\n",
              "      <td>balanced</td>\n",
              "      <td>gini</td>\n",
              "      <td>NaN</td>\n",
              "      <td>5</td>\n",
              "      <td>42</td>\n",
              "    </tr>\n",
              "    <tr>\n",
              "      <th>3</th>\n",
              "      <td>0.700730</td>\n",
              "      <td>0.835828</td>\n",
              "      <td>balanced</td>\n",
              "      <td>entropy</td>\n",
              "      <td>NaN</td>\n",
              "      <td>4</td>\n",
              "      <td>42</td>\n",
              "    </tr>\n",
              "    <tr>\n",
              "      <th>4</th>\n",
              "      <td>0.698944</td>\n",
              "      <td>0.827026</td>\n",
              "      <td>balanced</td>\n",
              "      <td>entropy</td>\n",
              "      <td>NaN</td>\n",
              "      <td>5</td>\n",
              "      <td>42</td>\n",
              "    </tr>\n",
              "    <tr>\n",
              "      <th>5</th>\n",
              "      <td>0.697128</td>\n",
              "      <td>0.813397</td>\n",
              "      <td>balanced</td>\n",
              "      <td>gini</td>\n",
              "      <td>0.8</td>\n",
              "      <td>4</td>\n",
              "      <td>42</td>\n",
              "    </tr>\n",
              "    <tr>\n",
              "      <th>6</th>\n",
              "      <td>0.697081</td>\n",
              "      <td>0.807222</td>\n",
              "      <td>balanced</td>\n",
              "      <td>gini</td>\n",
              "      <td>0.8</td>\n",
              "      <td>5</td>\n",
              "      <td>42</td>\n",
              "    </tr>\n",
              "    <tr>\n",
              "      <th>7</th>\n",
              "      <td>0.695435</td>\n",
              "      <td>0.814273</td>\n",
              "      <td>balanced</td>\n",
              "      <td>entropy</td>\n",
              "      <td>0.8</td>\n",
              "      <td>4</td>\n",
              "      <td>42</td>\n",
              "    </tr>\n",
              "    <tr>\n",
              "      <th>8</th>\n",
              "      <td>0.693650</td>\n",
              "      <td>0.790488</td>\n",
              "      <td>balanced</td>\n",
              "      <td>entropy</td>\n",
              "      <td>0.8</td>\n",
              "      <td>6</td>\n",
              "      <td>42</td>\n",
              "    </tr>\n",
              "    <tr>\n",
              "      <th>9</th>\n",
              "      <td>0.691818</td>\n",
              "      <td>0.753519</td>\n",
              "      <td>balanced</td>\n",
              "      <td>entropy</td>\n",
              "      <td>NaN</td>\n",
              "      <td>10</td>\n",
              "      <td>42</td>\n",
              "    </tr>\n",
              "  </tbody>\n",
              "</table>\n",
              "</div>\n",
              "      <button class=\"colab-df-convert\" onclick=\"convertToInteractive('df-9fd18164-b84b-43ff-ab90-6042982b5889')\"\n",
              "              title=\"Convert this dataframe to an interactive table.\"\n",
              "              style=\"display:none;\">\n",
              "        \n",
              "  <svg xmlns=\"http://www.w3.org/2000/svg\" height=\"24px\"viewBox=\"0 0 24 24\"\n",
              "       width=\"24px\">\n",
              "    <path d=\"M0 0h24v24H0V0z\" fill=\"none\"/>\n",
              "    <path d=\"M18.56 5.44l.94 2.06.94-2.06 2.06-.94-2.06-.94-.94-2.06-.94 2.06-2.06.94zm-11 1L8.5 8.5l.94-2.06 2.06-.94-2.06-.94L8.5 2.5l-.94 2.06-2.06.94zm10 10l.94 2.06.94-2.06 2.06-.94-2.06-.94-.94-2.06-.94 2.06-2.06.94z\"/><path d=\"M17.41 7.96l-1.37-1.37c-.4-.4-.92-.59-1.43-.59-.52 0-1.04.2-1.43.59L10.3 9.45l-7.72 7.72c-.78.78-.78 2.05 0 2.83L4 21.41c.39.39.9.59 1.41.59.51 0 1.02-.2 1.41-.59l7.78-7.78 2.81-2.81c.8-.78.8-2.07 0-2.86zM5.41 20L4 18.59l7.72-7.72 1.47 1.35L5.41 20z\"/>\n",
              "  </svg>\n",
              "      </button>\n",
              "      \n",
              "  <style>\n",
              "    .colab-df-container {\n",
              "      display:flex;\n",
              "      flex-wrap:wrap;\n",
              "      gap: 12px;\n",
              "    }\n",
              "\n",
              "    .colab-df-convert {\n",
              "      background-color: #E8F0FE;\n",
              "      border: none;\n",
              "      border-radius: 50%;\n",
              "      cursor: pointer;\n",
              "      display: none;\n",
              "      fill: #1967D2;\n",
              "      height: 32px;\n",
              "      padding: 0 0 0 0;\n",
              "      width: 32px;\n",
              "    }\n",
              "\n",
              "    .colab-df-convert:hover {\n",
              "      background-color: #E2EBFA;\n",
              "      box-shadow: 0px 1px 2px rgba(60, 64, 67, 0.3), 0px 1px 3px 1px rgba(60, 64, 67, 0.15);\n",
              "      fill: #174EA6;\n",
              "    }\n",
              "\n",
              "    [theme=dark] .colab-df-convert {\n",
              "      background-color: #3B4455;\n",
              "      fill: #D2E3FC;\n",
              "    }\n",
              "\n",
              "    [theme=dark] .colab-df-convert:hover {\n",
              "      background-color: #434B5C;\n",
              "      box-shadow: 0px 1px 3px 1px rgba(0, 0, 0, 0.15);\n",
              "      filter: drop-shadow(0px 1px 2px rgba(0, 0, 0, 0.3));\n",
              "      fill: #FFFFFF;\n",
              "    }\n",
              "  </style>\n",
              "\n",
              "      <script>\n",
              "        const buttonEl =\n",
              "          document.querySelector('#df-9fd18164-b84b-43ff-ab90-6042982b5889 button.colab-df-convert');\n",
              "        buttonEl.style.display =\n",
              "          google.colab.kernel.accessAllowed ? 'block' : 'none';\n",
              "\n",
              "        async function convertToInteractive(key) {\n",
              "          const element = document.querySelector('#df-9fd18164-b84b-43ff-ab90-6042982b5889');\n",
              "          const dataTable =\n",
              "            await google.colab.kernel.invokeFunction('convertToInteractive',\n",
              "                                                     [key], {});\n",
              "          if (!dataTable) return;\n",
              "\n",
              "          const docLinkHtml = 'Like what you see? Visit the ' +\n",
              "            '<a target=\"_blank\" href=https://colab.research.google.com/notebooks/data_table.ipynb>data table notebook</a>'\n",
              "            + ' to learn more about interactive tables.';\n",
              "          element.innerHTML = '';\n",
              "          dataTable['output_type'] = 'display_data';\n",
              "          await google.colab.output.renderOutput(dataTable, element);\n",
              "          const docLink = document.createElement('div');\n",
              "          docLink.innerHTML = docLinkHtml;\n",
              "          element.appendChild(docLink);\n",
              "        }\n",
              "      </script>\n",
              "    </div>\n",
              "  </div>\n",
              "  "
            ]
          },
          "metadata": {},
          "execution_count": 42
        }
      ]
    },
    {
      "cell_type": "code",
      "source": [
        "pipe = Pipeline([\n",
        "        ('transform', transform_pipeline),\n",
        "        (\"decision_tree\", DecisionTreeClassifier(criterion=\"gini\", max_depth=None, max_features=None, min_samples_leaf=4))\n",
        "  ])\n",
        "temp = cross_val_score(pipe, train_set.iloc[:, :-1], train_set.iloc[:, -1], cv=4, scoring=\"accuracy\")\n",
        "print(\"decision_tree\", temp, \" | \", temp.mean())"
      ],
      "metadata": {
        "colab": {
          "base_uri": "https://localhost:8080/"
        },
        "id": "jbU6njOIxDAV",
        "outputId": "ba025835-6795-401f-f8cf-8f9710efda3a"
      },
      "execution_count": null,
      "outputs": [
        {
          "output_type": "stream",
          "name": "stdout",
          "text": [
            "decision_tree [0.80904523 0.84382872 0.79848866 0.79596977]  |  0.8118330949457615\n"
          ]
        }
      ]
    },
    {
      "cell_type": "markdown",
      "source": [
        ""
      ],
      "metadata": {
        "id": "zZthPVQ3x9Je"
      }
    },
    {
      "cell_type": "code",
      "source": [
        "param_grid = [\n",
        "    {\"k_neighbors__n_neighbors\":[2, 4, 7, 10, 13, 17, 20], \"k_neighbors__weights\": [\"uniform\", \"distance\"], \"k_neighbors__metric\":  [\"euclidean\", \"manhattan\", \"minkowski\"]}\n",
        "  ]\n",
        "\n",
        "pipe = Pipeline([\n",
        "      ('transform', transform_pipeline),\n",
        "      (\"k_neighbors\", KNeighborsClassifier()),\n",
        "])\n",
        "\n",
        "grid_search = GridSearchCV(pipe, param_grid, cv=5,\n",
        "                           scoring='recall',\n",
        "                           return_train_score=True)\n",
        "\n",
        "grid_search.fit(train_set.iloc[:, :-1], train_set.iloc[:, -1])\n",
        "grid_search_results_to_df(grid_search.cv_results_, \"k_neighbors\")"
      ],
      "metadata": {
        "colab": {
          "base_uri": "https://localhost:8080/",
          "height": 363
        },
        "id": "qvvpMOJWxJPQ",
        "outputId": "039fff9a-bf52-4a01-fa4c-0cbd69fb4752"
      },
      "execution_count": null,
      "outputs": [
        {
          "output_type": "execute_result",
          "data": {
            "text/plain": [
              "   mean_test_score  mean_train_score     metric  n_neighbors   weights\n",
              "0         0.625043          0.817781  manhattan            4  distance\n",
              "1         0.616271          0.801051  manhattan            2  distance\n",
              "2         0.612715          0.817781  euclidean            4  distance\n",
              "3         0.612715          0.817781  minkowski            4  distance\n",
              "4         0.610961          0.817781  manhattan            7  distance\n",
              "5         0.609191          0.817781  manhattan           10  distance\n",
              "6         0.607483          0.801051  minkowski            2  distance\n",
              "7         0.607483          0.801051  euclidean            2  distance\n",
              "8         0.605682          0.817781  minkowski            7  distance\n",
              "9         0.605682          0.817781  euclidean            7  distance"
            ],
            "text/html": [
              "\n",
              "  <div id=\"df-d2a39117-d00d-4465-9a55-79b16b0039ef\">\n",
              "    <div class=\"colab-df-container\">\n",
              "      <div>\n",
              "<style scoped>\n",
              "    .dataframe tbody tr th:only-of-type {\n",
              "        vertical-align: middle;\n",
              "    }\n",
              "\n",
              "    .dataframe tbody tr th {\n",
              "        vertical-align: top;\n",
              "    }\n",
              "\n",
              "    .dataframe thead th {\n",
              "        text-align: right;\n",
              "    }\n",
              "</style>\n",
              "<table border=\"1\" class=\"dataframe\">\n",
              "  <thead>\n",
              "    <tr style=\"text-align: right;\">\n",
              "      <th></th>\n",
              "      <th>mean_test_score</th>\n",
              "      <th>mean_train_score</th>\n",
              "      <th>metric</th>\n",
              "      <th>n_neighbors</th>\n",
              "      <th>weights</th>\n",
              "    </tr>\n",
              "  </thead>\n",
              "  <tbody>\n",
              "    <tr>\n",
              "      <th>0</th>\n",
              "      <td>0.625043</td>\n",
              "      <td>0.817781</td>\n",
              "      <td>manhattan</td>\n",
              "      <td>4</td>\n",
              "      <td>distance</td>\n",
              "    </tr>\n",
              "    <tr>\n",
              "      <th>1</th>\n",
              "      <td>0.616271</td>\n",
              "      <td>0.801051</td>\n",
              "      <td>manhattan</td>\n",
              "      <td>2</td>\n",
              "      <td>distance</td>\n",
              "    </tr>\n",
              "    <tr>\n",
              "      <th>2</th>\n",
              "      <td>0.612715</td>\n",
              "      <td>0.817781</td>\n",
              "      <td>euclidean</td>\n",
              "      <td>4</td>\n",
              "      <td>distance</td>\n",
              "    </tr>\n",
              "    <tr>\n",
              "      <th>3</th>\n",
              "      <td>0.612715</td>\n",
              "      <td>0.817781</td>\n",
              "      <td>minkowski</td>\n",
              "      <td>4</td>\n",
              "      <td>distance</td>\n",
              "    </tr>\n",
              "    <tr>\n",
              "      <th>4</th>\n",
              "      <td>0.610961</td>\n",
              "      <td>0.817781</td>\n",
              "      <td>manhattan</td>\n",
              "      <td>7</td>\n",
              "      <td>distance</td>\n",
              "    </tr>\n",
              "    <tr>\n",
              "      <th>5</th>\n",
              "      <td>0.609191</td>\n",
              "      <td>0.817781</td>\n",
              "      <td>manhattan</td>\n",
              "      <td>10</td>\n",
              "      <td>distance</td>\n",
              "    </tr>\n",
              "    <tr>\n",
              "      <th>6</th>\n",
              "      <td>0.607483</td>\n",
              "      <td>0.801051</td>\n",
              "      <td>minkowski</td>\n",
              "      <td>2</td>\n",
              "      <td>distance</td>\n",
              "    </tr>\n",
              "    <tr>\n",
              "      <th>7</th>\n",
              "      <td>0.607483</td>\n",
              "      <td>0.801051</td>\n",
              "      <td>euclidean</td>\n",
              "      <td>2</td>\n",
              "      <td>distance</td>\n",
              "    </tr>\n",
              "    <tr>\n",
              "      <th>8</th>\n",
              "      <td>0.605682</td>\n",
              "      <td>0.817781</td>\n",
              "      <td>minkowski</td>\n",
              "      <td>7</td>\n",
              "      <td>distance</td>\n",
              "    </tr>\n",
              "    <tr>\n",
              "      <th>9</th>\n",
              "      <td>0.605682</td>\n",
              "      <td>0.817781</td>\n",
              "      <td>euclidean</td>\n",
              "      <td>7</td>\n",
              "      <td>distance</td>\n",
              "    </tr>\n",
              "  </tbody>\n",
              "</table>\n",
              "</div>\n",
              "      <button class=\"colab-df-convert\" onclick=\"convertToInteractive('df-d2a39117-d00d-4465-9a55-79b16b0039ef')\"\n",
              "              title=\"Convert this dataframe to an interactive table.\"\n",
              "              style=\"display:none;\">\n",
              "        \n",
              "  <svg xmlns=\"http://www.w3.org/2000/svg\" height=\"24px\"viewBox=\"0 0 24 24\"\n",
              "       width=\"24px\">\n",
              "    <path d=\"M0 0h24v24H0V0z\" fill=\"none\"/>\n",
              "    <path d=\"M18.56 5.44l.94 2.06.94-2.06 2.06-.94-2.06-.94-.94-2.06-.94 2.06-2.06.94zm-11 1L8.5 8.5l.94-2.06 2.06-.94-2.06-.94L8.5 2.5l-.94 2.06-2.06.94zm10 10l.94 2.06.94-2.06 2.06-.94-2.06-.94-.94-2.06-.94 2.06-2.06.94z\"/><path d=\"M17.41 7.96l-1.37-1.37c-.4-.4-.92-.59-1.43-.59-.52 0-1.04.2-1.43.59L10.3 9.45l-7.72 7.72c-.78.78-.78 2.05 0 2.83L4 21.41c.39.39.9.59 1.41.59.51 0 1.02-.2 1.41-.59l7.78-7.78 2.81-2.81c.8-.78.8-2.07 0-2.86zM5.41 20L4 18.59l7.72-7.72 1.47 1.35L5.41 20z\"/>\n",
              "  </svg>\n",
              "      </button>\n",
              "      \n",
              "  <style>\n",
              "    .colab-df-container {\n",
              "      display:flex;\n",
              "      flex-wrap:wrap;\n",
              "      gap: 12px;\n",
              "    }\n",
              "\n",
              "    .colab-df-convert {\n",
              "      background-color: #E8F0FE;\n",
              "      border: none;\n",
              "      border-radius: 50%;\n",
              "      cursor: pointer;\n",
              "      display: none;\n",
              "      fill: #1967D2;\n",
              "      height: 32px;\n",
              "      padding: 0 0 0 0;\n",
              "      width: 32px;\n",
              "    }\n",
              "\n",
              "    .colab-df-convert:hover {\n",
              "      background-color: #E2EBFA;\n",
              "      box-shadow: 0px 1px 2px rgba(60, 64, 67, 0.3), 0px 1px 3px 1px rgba(60, 64, 67, 0.15);\n",
              "      fill: #174EA6;\n",
              "    }\n",
              "\n",
              "    [theme=dark] .colab-df-convert {\n",
              "      background-color: #3B4455;\n",
              "      fill: #D2E3FC;\n",
              "    }\n",
              "\n",
              "    [theme=dark] .colab-df-convert:hover {\n",
              "      background-color: #434B5C;\n",
              "      box-shadow: 0px 1px 3px 1px rgba(0, 0, 0, 0.15);\n",
              "      filter: drop-shadow(0px 1px 2px rgba(0, 0, 0, 0.3));\n",
              "      fill: #FFFFFF;\n",
              "    }\n",
              "  </style>\n",
              "\n",
              "      <script>\n",
              "        const buttonEl =\n",
              "          document.querySelector('#df-d2a39117-d00d-4465-9a55-79b16b0039ef button.colab-df-convert');\n",
              "        buttonEl.style.display =\n",
              "          google.colab.kernel.accessAllowed ? 'block' : 'none';\n",
              "\n",
              "        async function convertToInteractive(key) {\n",
              "          const element = document.querySelector('#df-d2a39117-d00d-4465-9a55-79b16b0039ef');\n",
              "          const dataTable =\n",
              "            await google.colab.kernel.invokeFunction('convertToInteractive',\n",
              "                                                     [key], {});\n",
              "          if (!dataTable) return;\n",
              "\n",
              "          const docLinkHtml = 'Like what you see? Visit the ' +\n",
              "            '<a target=\"_blank\" href=https://colab.research.google.com/notebooks/data_table.ipynb>data table notebook</a>'\n",
              "            + ' to learn more about interactive tables.';\n",
              "          element.innerHTML = '';\n",
              "          dataTable['output_type'] = 'display_data';\n",
              "          await google.colab.output.renderOutput(dataTable, element);\n",
              "          const docLink = document.createElement('div');\n",
              "          docLink.innerHTML = docLinkHtml;\n",
              "          element.appendChild(docLink);\n",
              "        }\n",
              "      </script>\n",
              "    </div>\n",
              "  </div>\n",
              "  "
            ]
          },
          "metadata": {},
          "execution_count": 44
        }
      ]
    },
    {
      "cell_type": "code",
      "source": [
        "param_grid = [\n",
        "    {\"k_neighbors__n_neighbors\":[2, 3, 4, 5, 6], \"k_neighbors__weights\": [\"distance\"], \"k_neighbors__metric\":  [\"euclidean\", \"manhattan\", \"minkowski\"]}\n",
        "  ]\n",
        "\n",
        "pipe = Pipeline([\n",
        "      ('transform', transform_pipeline),\n",
        "      (\"k_neighbors\", KNeighborsClassifier()),\n",
        "])\n",
        "\n",
        "grid_search = GridSearchCV(pipe, param_grid, cv=5,\n",
        "                           scoring='recall',\n",
        "                           return_train_score=True)\n",
        "\n",
        "grid_search.fit(train_set.iloc[:, :-1], train_set.iloc[:, -1])\n",
        "grid_search_results_to_df(grid_search.cv_results_, \"k_neighbors\")"
      ],
      "metadata": {
        "colab": {
          "base_uri": "https://localhost:8080/",
          "height": 363
        },
        "id": "WUVWklnzzpTw",
        "outputId": "6df8adb5-3fd7-4c8b-cef4-44207f661984"
      },
      "execution_count": null,
      "outputs": [
        {
          "output_type": "execute_result",
          "data": {
            "text/plain": [
              "   mean_test_score  mean_train_score     metric  n_neighbors   weights\n",
              "0         0.632107          0.839351  manhattan            3  distance\n",
              "1         0.625043          0.817781  manhattan            4  distance\n",
              "2         0.618025          0.839351  euclidean            3  distance\n",
              "3         0.618025          0.819102  manhattan            5  distance\n",
              "4         0.618025          0.839351  minkowski            3  distance\n",
              "5         0.616271          0.801051  manhattan            2  distance\n",
              "6         0.612762          0.819102  euclidean            5  distance\n",
              "7         0.612762          0.819102  minkowski            5  distance\n",
              "8         0.612715          0.817781  euclidean            4  distance\n",
              "9         0.612715          0.817781  manhattan            6  distance"
            ],
            "text/html": [
              "\n",
              "  <div id=\"df-679df158-47b2-4b49-8ab6-3cf3cbf242e6\">\n",
              "    <div class=\"colab-df-container\">\n",
              "      <div>\n",
              "<style scoped>\n",
              "    .dataframe tbody tr th:only-of-type {\n",
              "        vertical-align: middle;\n",
              "    }\n",
              "\n",
              "    .dataframe tbody tr th {\n",
              "        vertical-align: top;\n",
              "    }\n",
              "\n",
              "    .dataframe thead th {\n",
              "        text-align: right;\n",
              "    }\n",
              "</style>\n",
              "<table border=\"1\" class=\"dataframe\">\n",
              "  <thead>\n",
              "    <tr style=\"text-align: right;\">\n",
              "      <th></th>\n",
              "      <th>mean_test_score</th>\n",
              "      <th>mean_train_score</th>\n",
              "      <th>metric</th>\n",
              "      <th>n_neighbors</th>\n",
              "      <th>weights</th>\n",
              "    </tr>\n",
              "  </thead>\n",
              "  <tbody>\n",
              "    <tr>\n",
              "      <th>0</th>\n",
              "      <td>0.632107</td>\n",
              "      <td>0.839351</td>\n",
              "      <td>manhattan</td>\n",
              "      <td>3</td>\n",
              "      <td>distance</td>\n",
              "    </tr>\n",
              "    <tr>\n",
              "      <th>1</th>\n",
              "      <td>0.625043</td>\n",
              "      <td>0.817781</td>\n",
              "      <td>manhattan</td>\n",
              "      <td>4</td>\n",
              "      <td>distance</td>\n",
              "    </tr>\n",
              "    <tr>\n",
              "      <th>2</th>\n",
              "      <td>0.618025</td>\n",
              "      <td>0.839351</td>\n",
              "      <td>euclidean</td>\n",
              "      <td>3</td>\n",
              "      <td>distance</td>\n",
              "    </tr>\n",
              "    <tr>\n",
              "      <th>3</th>\n",
              "      <td>0.618025</td>\n",
              "      <td>0.819102</td>\n",
              "      <td>manhattan</td>\n",
              "      <td>5</td>\n",
              "      <td>distance</td>\n",
              "    </tr>\n",
              "    <tr>\n",
              "      <th>4</th>\n",
              "      <td>0.618025</td>\n",
              "      <td>0.839351</td>\n",
              "      <td>minkowski</td>\n",
              "      <td>3</td>\n",
              "      <td>distance</td>\n",
              "    </tr>\n",
              "    <tr>\n",
              "      <th>5</th>\n",
              "      <td>0.616271</td>\n",
              "      <td>0.801051</td>\n",
              "      <td>manhattan</td>\n",
              "      <td>2</td>\n",
              "      <td>distance</td>\n",
              "    </tr>\n",
              "    <tr>\n",
              "      <th>6</th>\n",
              "      <td>0.612762</td>\n",
              "      <td>0.819102</td>\n",
              "      <td>euclidean</td>\n",
              "      <td>5</td>\n",
              "      <td>distance</td>\n",
              "    </tr>\n",
              "    <tr>\n",
              "      <th>7</th>\n",
              "      <td>0.612762</td>\n",
              "      <td>0.819102</td>\n",
              "      <td>minkowski</td>\n",
              "      <td>5</td>\n",
              "      <td>distance</td>\n",
              "    </tr>\n",
              "    <tr>\n",
              "      <th>8</th>\n",
              "      <td>0.612715</td>\n",
              "      <td>0.817781</td>\n",
              "      <td>euclidean</td>\n",
              "      <td>4</td>\n",
              "      <td>distance</td>\n",
              "    </tr>\n",
              "    <tr>\n",
              "      <th>9</th>\n",
              "      <td>0.612715</td>\n",
              "      <td>0.817781</td>\n",
              "      <td>manhattan</td>\n",
              "      <td>6</td>\n",
              "      <td>distance</td>\n",
              "    </tr>\n",
              "  </tbody>\n",
              "</table>\n",
              "</div>\n",
              "      <button class=\"colab-df-convert\" onclick=\"convertToInteractive('df-679df158-47b2-4b49-8ab6-3cf3cbf242e6')\"\n",
              "              title=\"Convert this dataframe to an interactive table.\"\n",
              "              style=\"display:none;\">\n",
              "        \n",
              "  <svg xmlns=\"http://www.w3.org/2000/svg\" height=\"24px\"viewBox=\"0 0 24 24\"\n",
              "       width=\"24px\">\n",
              "    <path d=\"M0 0h24v24H0V0z\" fill=\"none\"/>\n",
              "    <path d=\"M18.56 5.44l.94 2.06.94-2.06 2.06-.94-2.06-.94-.94-2.06-.94 2.06-2.06.94zm-11 1L8.5 8.5l.94-2.06 2.06-.94-2.06-.94L8.5 2.5l-.94 2.06-2.06.94zm10 10l.94 2.06.94-2.06 2.06-.94-2.06-.94-.94-2.06-.94 2.06-2.06.94z\"/><path d=\"M17.41 7.96l-1.37-1.37c-.4-.4-.92-.59-1.43-.59-.52 0-1.04.2-1.43.59L10.3 9.45l-7.72 7.72c-.78.78-.78 2.05 0 2.83L4 21.41c.39.39.9.59 1.41.59.51 0 1.02-.2 1.41-.59l7.78-7.78 2.81-2.81c.8-.78.8-2.07 0-2.86zM5.41 20L4 18.59l7.72-7.72 1.47 1.35L5.41 20z\"/>\n",
              "  </svg>\n",
              "      </button>\n",
              "      \n",
              "  <style>\n",
              "    .colab-df-container {\n",
              "      display:flex;\n",
              "      flex-wrap:wrap;\n",
              "      gap: 12px;\n",
              "    }\n",
              "\n",
              "    .colab-df-convert {\n",
              "      background-color: #E8F0FE;\n",
              "      border: none;\n",
              "      border-radius: 50%;\n",
              "      cursor: pointer;\n",
              "      display: none;\n",
              "      fill: #1967D2;\n",
              "      height: 32px;\n",
              "      padding: 0 0 0 0;\n",
              "      width: 32px;\n",
              "    }\n",
              "\n",
              "    .colab-df-convert:hover {\n",
              "      background-color: #E2EBFA;\n",
              "      box-shadow: 0px 1px 2px rgba(60, 64, 67, 0.3), 0px 1px 3px 1px rgba(60, 64, 67, 0.15);\n",
              "      fill: #174EA6;\n",
              "    }\n",
              "\n",
              "    [theme=dark] .colab-df-convert {\n",
              "      background-color: #3B4455;\n",
              "      fill: #D2E3FC;\n",
              "    }\n",
              "\n",
              "    [theme=dark] .colab-df-convert:hover {\n",
              "      background-color: #434B5C;\n",
              "      box-shadow: 0px 1px 3px 1px rgba(0, 0, 0, 0.15);\n",
              "      filter: drop-shadow(0px 1px 2px rgba(0, 0, 0, 0.3));\n",
              "      fill: #FFFFFF;\n",
              "    }\n",
              "  </style>\n",
              "\n",
              "      <script>\n",
              "        const buttonEl =\n",
              "          document.querySelector('#df-679df158-47b2-4b49-8ab6-3cf3cbf242e6 button.colab-df-convert');\n",
              "        buttonEl.style.display =\n",
              "          google.colab.kernel.accessAllowed ? 'block' : 'none';\n",
              "\n",
              "        async function convertToInteractive(key) {\n",
              "          const element = document.querySelector('#df-679df158-47b2-4b49-8ab6-3cf3cbf242e6');\n",
              "          const dataTable =\n",
              "            await google.colab.kernel.invokeFunction('convertToInteractive',\n",
              "                                                     [key], {});\n",
              "          if (!dataTable) return;\n",
              "\n",
              "          const docLinkHtml = 'Like what you see? Visit the ' +\n",
              "            '<a target=\"_blank\" href=https://colab.research.google.com/notebooks/data_table.ipynb>data table notebook</a>'\n",
              "            + ' to learn more about interactive tables.';\n",
              "          element.innerHTML = '';\n",
              "          dataTable['output_type'] = 'display_data';\n",
              "          await google.colab.output.renderOutput(dataTable, element);\n",
              "          const docLink = document.createElement('div');\n",
              "          docLink.innerHTML = docLinkHtml;\n",
              "          element.appendChild(docLink);\n",
              "        }\n",
              "      </script>\n",
              "    </div>\n",
              "  </div>\n",
              "  "
            ]
          },
          "metadata": {},
          "execution_count": 45
        }
      ]
    },
    {
      "cell_type": "code",
      "source": [
        "pipe = Pipeline([\n",
        "        ('transform', transform_pipeline),\n",
        "        (\"decision_tree\", KNeighborsClassifier(n_neighbors=3, metric=\"manhattan\", weights=\"distance\"))\n",
        "  ])\n",
        "temp = cross_val_score(pipe, train_set.iloc[:, :-1], train_set.iloc[:, -1], cv=4, scoring=\"accuracy\")\n",
        "print(\"decision_tree\", temp, \" | \", temp.mean())"
      ],
      "metadata": {
        "colab": {
          "base_uri": "https://localhost:8080/"
        },
        "id": "vQBuqgfB1LPU",
        "outputId": "977589e5-290e-4fba-aa14-9212ba09f18f"
      },
      "execution_count": null,
      "outputs": [
        {
          "output_type": "stream",
          "name": "stdout",
          "text": [
            "decision_tree [0.74874372 0.74559194 0.76826196 0.75566751]  |  0.7545662822930775\n"
          ]
        }
      ]
    },
    {
      "cell_type": "markdown",
      "source": [
        ""
      ],
      "metadata": {
        "id": "csigvOgq3SmX"
      }
    },
    {
      "cell_type": "code",
      "source": [
        "from sklearn.ensemble import VotingClassifier"
      ],
      "metadata": {
        "id": "nycWMd2n1n1k"
      },
      "execution_count": null,
      "outputs": []
    },
    {
      "cell_type": "code",
      "source": [
        "neighbors = KNeighborsClassifier(n_neighbors=3, metric=\"manhattan\", weights=\"distance\")\n",
        "forest = RandomForestClassifier(criterion=\"entropy\", max_depth=None, max_features=None, min_samples_leaf=1, n_estimators=200, class_weight=\"balanced\")\n",
        "tree = DecisionTreeClassifier(criterion=\"gini\", max_depth=None, max_features=None, min_samples_leaf=4)\n",
        "\n",
        "pipe = Pipeline([\n",
        "        ('transform', transform_pipeline),\n",
        "        (\"decision_tree\", VotingClassifier(estimators=[('k-neighbors', neighbors), ('rf', forest), ('tree', tree)], voting='hard'))\n",
        "  ])\n",
        "temp = cross_val_score(pipe, train_set.iloc[:, :-1], train_set.iloc[:, -1], cv=4, scoring=\"recall\")\n",
        "print(\"decision_tree\", temp, \" | \", temp.mean())"
      ],
      "metadata": {
        "colab": {
          "base_uri": "https://localhost:8080/"
        },
        "id": "TRKWxeVl1xVl",
        "outputId": "fb86d484-3cc6-42b8-853b-60cc3c109cbd"
      },
      "execution_count": null,
      "outputs": [
        {
          "output_type": "stream",
          "name": "stdout",
          "text": [
            "decision_tree [0.61971831 0.64788732 0.62676056 0.65492958]  |  0.6373239436619719\n"
          ]
        }
      ]
    },
    {
      "cell_type": "code",
      "source": [
        "pipe = Pipeline([\n",
        "        ('transform', transform_pipeline),\n",
        "        (\"decision_tree\", VotingClassifier(estimators=[('k-neighbors', neighbors), ('rf', forest), ('tree', tree)], voting='hard'))\n",
        "  ])\n",
        "temp = cross_val_score(pipe, train_set.iloc[:, :-1], train_set.iloc[:, -1], cv=4, scoring=\"accuracy\")\n",
        "print(\"decision_tree\", temp, \" | \", temp.mean())"
      ],
      "metadata": {
        "colab": {
          "base_uri": "https://localhost:8080/"
        },
        "id": "5E1N-lm13Hz-",
        "outputId": "86395480-bc98-4331-a70e-2dc3f89e4114"
      },
      "execution_count": null,
      "outputs": [
        {
          "output_type": "stream",
          "name": "stdout",
          "text": [
            "decision_tree [0.77135678 0.79596977 0.79596977 0.78085642]  |  0.7860381884232245\n"
          ]
        }
      ]
    }
  ]
}